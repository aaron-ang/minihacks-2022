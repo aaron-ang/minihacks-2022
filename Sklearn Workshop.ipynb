{
 "cells": [
  {
   "cell_type": "markdown",
   "metadata": {
    "slideshow": {
     "slide_type": "slide"
    }
   },
   "source": [
    "<h1><center>Workshop: Introduction to Scikit-learn</center></h1>\n",
    "<h3><center>Xu Wang</center></h3>\n",
    "<h3><center>xuwang@bu.edu</center></h3>"
   ]
  },
  {
   "cell_type": "markdown",
   "metadata": {
    "slideshow": {
     "slide_type": "slide"
    }
   },
   "source": [
    "# 1. Introduction\n",
    "\n"
   ]
  },
  {
   "cell_type": "markdown",
   "metadata": {
    "slideshow": {
     "slide_type": "fragment"
    }
   },
   "source": [
    "## What is scikit-learn?\n",
    "\n",
    "- A Python package.\n",
    "\n",
    "- Designed for machine learning."
   ]
  },
  {
   "cell_type": "markdown",
   "metadata": {
    "slideshow": {
     "slide_type": "fragment"
    }
   },
   "source": [
    "## Why we need scikit-learn?\n",
    "\n",
    "- Simple. You don't need to know everything.\n",
    "\n",
    "- Efficient. Well implemented and optimized. "
   ]
  },
  {
   "cell_type": "markdown",
   "metadata": {
    "slideshow": {
     "slide_type": "slide"
    }
   },
   "source": [
    "## When can we use scikit-learn?\n",
    "\n",
    "### Data Analysis\n",
    "\n",
    "- Loading, analysis, preprocessing\n",
    "\n",
    "### Model Implementation\n",
    "\n",
    "- Training, validation, tuning, ensembling\n",
    "\n",
    "### Performance Assessment\n",
    "\n",
    "- scoring, presenting"
   ]
  },
  {
   "cell_type": "markdown",
   "metadata": {
    "slideshow": {
     "slide_type": "slide"
    }
   },
   "source": [
    "# 2. Demonstration"
   ]
  },
  {
   "cell_type": "markdown",
   "metadata": {
    "slideshow": {
     "slide_type": "slide"
    }
   },
   "source": [
    "### Data Analysis <=\n",
    "\n",
    "- Loading, analysis, preprocessing\n",
    "\n",
    "### Model Implementation\n",
    "\n",
    "- Training, validation, tuning, ensembling\n",
    "\n",
    "### Performance Assessment\n",
    "\n",
    "- scoring, presenting"
   ]
  },
  {
   "cell_type": "markdown",
   "metadata": {
    "slideshow": {
     "slide_type": "slide"
    }
   },
   "source": [
    "## 2.1 Dataset Loading Utilities\n",
    "\n",
    "### General dataset API:\n",
    "\n",
    "- **Dataset loaders**: load small standard datasets.\n",
    "\n",
    "- **Dataset fetchers**: download and load larger datasets.\n",
    "\n",
    "- **Dataset generation functions**: generate controlled synthetic datasets"
   ]
  },
  {
   "cell_type": "code",
   "execution_count": 1,
   "metadata": {
    "slideshow": {
     "slide_type": "subslide"
    }
   },
   "outputs": [
    {
     "name": "stdout",
     "output_type": "stream",
     "text": [
      "Class type of dataset:  <class 'sklearn.utils.Bunch'>\n",
      "Keys of dataset:  dict_keys(['data', 'target', 'frame', 'target_names', 'DESCR', 'feature_names', 'filename'])\n",
      "Shape of data:  (150, 4)\n",
      "First 5 samples: \n",
      "[[5.1 3.5 1.4 0.2]\n",
      " [4.9 3.  1.4 0.2]\n",
      " [4.7 3.2 1.3 0.2]\n",
      " [4.6 3.1 1.5 0.2]\n",
      " [5.  3.6 1.4 0.2]]\n"
     ]
    }
   ],
   "source": [
    "# Dataset loaders\n",
    "\n",
    "from sklearn.datasets import load_iris\n",
    "\n",
    "dataset = load_iris(return_X_y=False, as_frame=False)\n",
    "print(\"Class type of dataset: \", type(dataset)) #Bunch: dictionary-like object\n",
    "print(\"Keys of dataset: \",dataset.keys())\n",
    "print(\"Shape of data: \", dataset['data'].shape)\n",
    "print(\"First 5 samples: \")\n",
    "print(dataset['data'][:5])"
   ]
  },
  {
   "cell_type": "code",
   "execution_count": 2,
   "metadata": {
    "scrolled": true,
    "slideshow": {
     "slide_type": "subslide"
    }
   },
   "outputs": [
    {
     "name": "stdout",
     "output_type": "stream",
     "text": [
      "Description of dataset:  .. _iris_dataset:\n",
      "\n",
      "Iris plants dataset\n",
      "--------------------\n",
      "\n",
      "**Data Set Characteristics:**\n",
      "\n",
      "    :Number of Instances: 150 (50 in each of three classes)\n",
      "    :Number of Attributes: 4 numeric, predictive attributes and the class\n",
      "    :Attribute Information:\n",
      "        - sepal length in cm\n",
      "        - sepal width in cm\n",
      "        - petal length in cm\n",
      "        - petal width in cm\n",
      "        - class:\n",
      "                - Iris-Setosa\n",
      "                - Iris-Versicolour\n",
      "                - Iris-Virginica\n",
      "                \n",
      "    :Summary Statistics:\n",
      "\n",
      "    ============== ==== ==== ======= ===== ====================\n",
      "                    Min  Max   Mean    SD   Class Correlation\n",
      "    ============== ==== ==== ======= ===== ====================\n",
      "    sepal length:   4.3  7.9   5.84   0.83    0.7826\n",
      "    sepal width:    2.0  4.4   3.05   0.43   -0.4194\n",
      "    petal length:   1.0  6.9   3.76   1.76    0.9490  (high!)\n",
      "    petal width:    0.1  2.5   1.20   0.76    0.9565  (high!)\n",
      "    ============== ==== ==== ======= ===== ====================\n",
      "\n",
      "    :Missing Attribute Values: None\n",
      "    :Class Distribution: 33.3% for each of 3 classes.\n",
      "    :Creator: R.A. Fisher\n",
      "    :Donor: Michael Marshall (MARSHALL%PLU@io.arc.nasa.gov)\n",
      "    :Date: July, 1988\n",
      "\n",
      "The famous Iris database, first used by Sir R.A. Fisher. The dataset is taken\n",
      "from Fisher's paper. Note that it's the same as in R, but not as in the UCI\n",
      "Machine Learning Repository, which has two wrong data points.\n",
      "\n",
      "This is perhaps the best known database to be found in the\n",
      "pattern recognition literature.  Fisher's paper is a classic in the field and\n",
      "is referenced frequently to this day.  (See Duda & Hart, for example.)  The\n",
      "data set contains 3 classes of 50 instances each, where each class refers to a\n",
      "type of iris plant.  One class is linearly separable from the other 2; the\n",
      "latter are NOT linearly separable from each other.\n",
      "\n",
      ".. topic:: References\n",
      "\n",
      "   - Fisher, R.A. \"The use of multiple measurements in taxonomic problems\"\n",
      "     Annual Eugenics, 7, Part II, 179-188 (1936); also in \"Contributions to\n",
      "     Mathematical Statistics\" (John Wiley, NY, 1950).\n",
      "   - Duda, R.O., & Hart, P.E. (1973) Pattern Classification and Scene Analysis.\n",
      "     (Q327.D83) John Wiley & Sons.  ISBN 0-471-22361-1.  See page 218.\n",
      "   - Dasarathy, B.V. (1980) \"Nosing Around the Neighborhood: A New System\n",
      "     Structure and Classification Rule for Recognition in Partially Exposed\n",
      "     Environments\".  IEEE Transactions on Pattern Analysis and Machine\n",
      "     Intelligence, Vol. PAMI-2, No. 1, 67-71.\n",
      "   - Gates, G.W. (1972) \"The Reduced Nearest Neighbor Rule\".  IEEE Transactions\n",
      "     on Information Theory, May 1972, 431-433.\n",
      "   - See also: 1988 MLC Proceedings, 54-64.  Cheeseman et al\"s AUTOCLASS II\n",
      "     conceptual clustering system finds 3 classes in the data.\n",
      "   - Many, many more ...\n"
     ]
    }
   ],
   "source": [
    "print(\"Description of dataset: \", dataset['DESCR'])"
   ]
  },
  {
   "cell_type": "code",
   "execution_count": 3,
   "metadata": {
    "slideshow": {
     "slide_type": "subslide"
    }
   },
   "outputs": [
    {
     "name": "stdout",
     "output_type": "stream",
     "text": [
      "Keys of dataset:  dict_keys(['data', 'target', 'frame', 'target_names', 'feature_names', 'DESCR'])\n"
     ]
    }
   ],
   "source": [
    "# Dataset fetchers\n",
    "\n",
    "from sklearn.datasets import fetch_california_housing\n",
    "\n",
    "dataset = fetch_california_housing(download_if_missing=True)\n",
    "print(\"Keys of dataset: \",dataset.keys())"
   ]
  },
  {
   "cell_type": "markdown",
   "metadata": {
    "slideshow": {
     "slide_type": "subslide"
    }
   },
   "source": [
    "#### Dataset Generators\n",
    "- Generators for classification and clustering\n",
    "- Generators for regression\n",
    "- Generators for manifold learning\n",
    "- Generators for decomposition"
   ]
  },
  {
   "cell_type": "code",
   "execution_count": 4,
   "metadata": {
    "slideshow": {
     "slide_type": "fragment"
    }
   },
   "outputs": [
    {
     "name": "stdout",
     "output_type": "stream",
     "text": [
      "Shape of X: (20, 2)\n",
      "Y: [2 1 1 2 2 2 0 2 1 0 1 0 1 1 0 1 0 0 2 0]\n"
     ]
    }
   ],
   "source": [
    "# Dataset generation functions\n",
    "# Generate isotropic Gaussian blobs for clustering.\n",
    "from sklearn.datasets import make_blobs\n",
    "X, y = make_blobs(n_samples=20, centers=3, n_features=2,\n",
    "                  random_state=3)\n",
    "print(\"Shape of X:\", X.shape)\n",
    "print(\"Y:\",y)"
   ]
  },
  {
   "cell_type": "code",
   "execution_count": 5,
   "metadata": {
    "slideshow": {
     "slide_type": "subslide"
    }
   },
   "outputs": [
    {
     "data": {
      "image/png": "[encoded data removed]",
      "text/plain": [
       "<Figure size 432x288 with 1 Axes>"
      ]
     },
     "metadata": {
      "needs_background": "light"
     },
     "output_type": "display_data"
    }
   ],
   "source": [
    "import matplotlib.pyplot as plt\n",
    "from matplotlib import cm\n",
    "import numpy as np\n",
    "\n",
    "colors = cm.rainbow(np.linspace(0.0, 1.0, 3))\n",
    "for this_y, color in enumerate(colors):\n",
    "    this_X = X[y == this_y]\n",
    "    plt.scatter(\n",
    "        this_X[:, 0],\n",
    "        this_X[:, 1],\n",
    "        c=color[np.newaxis, :],\n",
    "        alpha=0.5,\n",
    "        edgecolor=\"k\",\n",
    "        label=\"Class %s\" % this_y,\n",
    "    )\n",
    "plt.show()"
   ]
  },
  {
   "cell_type": "markdown",
   "metadata": {
    "slideshow": {
     "slide_type": "slide"
    }
   },
   "source": [
    "## 2.2 Data Pre-processing\n",
    "\n",
    "- Unifying data format\n",
    "\n",
    "- Data distribution processing\n",
    "\n",
    "- Genearating more features\n",
    "\n",
    "- Train/Test split\n",
    "\n",
    "- Others..."
   ]
  },
  {
   "cell_type": "markdown",
   "metadata": {
    "slideshow": {
     "slide_type": "slide"
    }
   },
   "source": [
    "### Takeaway:\n",
    "\n",
    "- Initialize( )\n",
    "\n",
    "- .fit( ): processor learns something from data\n",
    "\n",
    "- .transform( ): processor applies what it learns\n",
    "\n",
    "- .fit_transform( ): .fit( ) + .transform( )"
   ]
  },
  {
   "cell_type": "markdown",
   "metadata": {
    "slideshow": {
     "slide_type": "slide"
    }
   },
   "source": [
    "### 2.2.1 Unifying data format\n",
    "\n",
    "- Categorical features processing: \n",
    "    - integer encoding\n",
    "    - one-hot encoding\n",
    "\n",
    "- \\*Imputation of missing values"
   ]
  },
  {
   "cell_type": "code",
   "execution_count": 6,
   "metadata": {
    "slideshow": {
     "slide_type": "subslide"
    }
   },
   "outputs": [
    {
     "data": {
      "text/plain": [
       "array([[0., 1., 1.]])"
      ]
     },
     "execution_count": 6,
     "metadata": {},
     "output_type": "execute_result"
    }
   ],
   "source": [
    "# Categorical features to integer codes\n",
    "from sklearn.preprocessing import OrdinalEncoder\n",
    "\n",
    "enc = OrdinalEncoder()\n",
    "X = [['male', 'from US', 'uses Safari'], ['female', 'from Europe', 'uses Firefox']]\n",
    "enc.fit(X)\n",
    "enc.transform([['female', 'from US', 'uses Safari']])"
   ]
  },
  {
   "cell_type": "code",
   "execution_count": 7,
   "metadata": {
    "slideshow": {
     "slide_type": "subslide"
    }
   },
   "outputs": [
    {
     "name": "stdout",
     "output_type": "stream",
     "text": [
      "Categories:  [array(['Female', 'Male'], dtype=object), array([1, 2, 3], dtype=object)]\n"
     ]
    }
   ],
   "source": [
    "# Categorical features to one-hot features\n",
    "from sklearn.preprocessing import OneHotEncoder\n",
    "\n",
    "enc = OneHotEncoder(handle_unknown='ignore')\n",
    "X = [['Male', 1], ['Female', 3], ['Female', 2]]\n",
    "enc.fit(X)\n",
    "print(\"Categories: \", enc.categories_)"
   ]
  },
  {
   "cell_type": "code",
   "execution_count": 8,
   "metadata": {
    "slideshow": {
     "slide_type": "fragment"
    }
   },
   "outputs": [
    {
     "data": {
      "text/plain": [
       "array([[1., 0., 1., 0., 0.],\n",
       "       [0., 1., 0., 0., 0.]])"
      ]
     },
     "execution_count": 8,
     "metadata": {},
     "output_type": "execute_result"
    }
   ],
   "source": [
    "enc.transform([['Female', 1], ['Male', 4]]).toarray()"
   ]
  },
  {
   "cell_type": "code",
   "execution_count": 9,
   "metadata": {
    "slideshow": {
     "slide_type": "subslide"
    }
   },
   "outputs": [
    {
     "name": "stdout",
     "output_type": "stream",
     "text": [
      "[[4.         2.        ]\n",
      " [6.         3.66666667]\n",
      " [7.         6.        ]]\n"
     ]
    }
   ],
   "source": [
    "# Missing value inputation\n",
    "import numpy as np\n",
    "from sklearn.impute import SimpleImputer\n",
    "\n",
    "imp = SimpleImputer(missing_values=np.nan, strategy='mean')\n",
    "imp.fit([[1, 2], [np.nan, 3], [7, 6]])\n",
    "X = [[np.nan, 2], [6, np.nan], [7, 6]]\n",
    "print(imp.transform(X))"
   ]
  },
  {
   "cell_type": "markdown",
   "metadata": {
    "slideshow": {
     "slide_type": "slide"
    }
   },
   "source": [
    "### 2.2.2  Data distribution processing\n",
    "\n",
    "- Linear transformation: \n",
    "    - standardization\n",
    "    - scaling\n",
    "    - mean removal\n",
    "\n",
    "- Non-linear transformation\n",
    "    - mapping to Uniform/Gaussian distribution\n",
    "\n",
    "- Normalization"
   ]
  },
  {
   "cell_type": "markdown",
   "metadata": {
    "slideshow": {
     "slide_type": "subslide"
    }
   },
   "source": [
    "#### Standardization"
   ]
  },
  {
   "cell_type": "code",
   "execution_count": 10,
   "metadata": {
    "slideshow": {
     "slide_type": "fragment"
    }
   },
   "outputs": [
    {
     "name": "stdout",
     "output_type": "stream",
     "text": [
      "Mean of each feature:  [5.84333333 3.05733333 3.758      1.19933333]\n",
      "Scale of each feature:  [0.82530129 0.43441097 1.75940407 0.75969263]\n"
     ]
    }
   ],
   "source": [
    "# Standardization\n",
    "\n",
    "from sklearn import preprocessing\n",
    "from sklearn.datasets import load_iris\n",
    "\n",
    "dataset = load_iris(return_X_y=False, as_frame=False)\n",
    "X = dataset['data']\n",
    "y = dataset['target']\n",
    "\n",
    "scaler = preprocessing.StandardScaler()\n",
    "# Compute the mean and std to be used for later scaling.\n",
    "scaler.fit(X)\n",
    "\n",
    "print(\"Mean of each feature: \", scaler.mean_)\n",
    "print(\"Scale of each feature: \", scaler.scale_)\n",
    "\n",
    "#Perform standardization by centering and scaling\n",
    "X_scaled = scaler.transform(X)"
   ]
  },
  {
   "cell_type": "code",
   "execution_count": 11,
   "metadata": {
    "slideshow": {
     "slide_type": "subslide"
    }
   },
   "outputs": [
    {
     "data": {
      "image/png": "[encoded data removed]",
      "text/plain": [
       "<Figure size 432x288 with 1 Axes>"
      ]
     },
     "metadata": {
      "needs_background": "light"
     },
     "output_type": "display_data"
    }
   ],
   "source": [
    "import matplotlib.pyplot as plt\n",
    "plt.scatter(X[:,0], X[:,1], color = 'g')\n",
    "plt.scatter(X_scaled[:,0], X_scaled[:,1], color = 'b')\n",
    "plt.show()"
   ]
  },
  {
   "cell_type": "markdown",
   "metadata": {
    "slideshow": {
     "slide_type": "subslide"
    }
   },
   "source": [
    "#### Map to Uniform/Gaussian distribution"
   ]
  },
  {
   "cell_type": "code",
   "execution_count": 12,
   "metadata": {
    "slideshow": {
     "slide_type": "fragment"
    }
   },
   "outputs": [
    {
     "name": "stdout",
     "output_type": "stream",
     "text": [
      "Before transformation: [4.3 5.1 5.8 6.4 7.9]\n",
      "After transformation: [0.         0.24161074 0.51006711 0.74496644 1.        ]\n"
     ]
    },
    {
     "name": "stderr",
     "output_type": "stream",
     "text": [
      "/Users/aaronang/opt/anaconda3/lib/python3.9/site-packages/sklearn/preprocessing/_data.py:2612: UserWarning: n_quantiles (1000) is greater than the total number of samples (150). n_quantiles is set to n_samples.\n",
      "  warnings.warn(\"n_quantiles (%s) is greater than the total number \"\n"
     ]
    }
   ],
   "source": [
    "# Non-linear transformation\n",
    "## To uniform distribution\n",
    "quantile_transformer = preprocessing.QuantileTransformer(random_state=0)\n",
    "X_trans = quantile_transformer.fit_transform(X)\n",
    "print(\"Before transformation:\", np.percentile(X[:, 0], [0, 25, 50, 75, 100]))\n",
    "print(\"After transformation:\", np.percentile(X_trans[:, 0], [0, 25, 50, 75, 100]))"
   ]
  },
  {
   "cell_type": "code",
   "execution_count": 13,
   "metadata": {
    "slideshow": {
     "slide_type": "fragment"
    }
   },
   "outputs": [],
   "source": [
    "## To Gaussian distribution\n",
    "pt = preprocessing.PowerTransformer(method='box-cox', standardize=False)\n",
    "X_trans_normal = pt.fit_transform(X)"
   ]
  },
  {
   "cell_type": "markdown",
   "metadata": {
    "slideshow": {
     "slide_type": "subslide"
    }
   },
   "source": [
    "#### Normalization:  scaling individual samples to have unit norm"
   ]
  },
  {
   "cell_type": "code",
   "execution_count": 14,
   "metadata": {
    "slideshow": {
     "slide_type": "fragment"
    }
   },
   "outputs": [
    {
     "name": "stdout",
     "output_type": "stream",
     "text": [
      "After normalization: \n",
      "[[0.80377277 0.55160877 0.22064351 0.0315205 ]\n",
      " [0.82813287 0.50702013 0.23660939 0.03380134]\n",
      " [0.80533308 0.54831188 0.2227517  0.03426949]\n",
      " [0.80003025 0.53915082 0.26087943 0.03478392]]\n"
     ]
    }
   ],
   "source": [
    "# Normalization\n",
    "X_normalized = preprocessing.normalize(X, norm='l2')\n",
    "print(\"After normalization: \")\n",
    "print(X_normalized[:4])"
   ]
  },
  {
   "cell_type": "markdown",
   "metadata": {
    "slideshow": {
     "slide_type": "slide"
    }
   },
   "source": [
    "### 2.2.3 Genearating more features\n",
    "\n",
    "- Generate polynomial features"
   ]
  },
  {
   "cell_type": "code",
   "execution_count": 15,
   "metadata": {
    "slideshow": {
     "slide_type": "subslide"
    }
   },
   "outputs": [
    {
     "name": "stdout",
     "output_type": "stream",
     "text": [
      "Original X:\n",
      "[[0 1]\n",
      " [2 3]\n",
      " [4 5]]\n",
      "New X: \n",
      "[[ 1.  0.  1.  0.  0.  1.]\n",
      " [ 1.  2.  3.  4.  6.  9.]\n",
      " [ 1.  4.  5. 16. 20. 25.]]\n"
     ]
    }
   ],
   "source": [
    "import numpy as np\n",
    "from sklearn.preprocessing import PolynomialFeatures\n",
    "X = np.arange(6).reshape(3, 2)\n",
    "print(\"Original X:\")\n",
    "print(X)\n",
    "\n",
    "poly = PolynomialFeatures(2)\n",
    "X_trans = poly.fit_transform(X)\n",
    "print(\"New X: \")\n",
    "print(X_trans)"
   ]
  },
  {
   "cell_type": "markdown",
   "metadata": {
    "slideshow": {
     "slide_type": "slide"
    }
   },
   "source": [
    "### 2.2.4 Train/Test split\n",
    "\n",
    "- Split dataset into training set and test set"
   ]
  },
  {
   "cell_type": "code",
   "execution_count": 16,
   "metadata": {
    "slideshow": {
     "slide_type": "fragment"
    }
   },
   "outputs": [
    {
     "name": "stdout",
     "output_type": "stream",
     "text": [
      "Number of training samples:  120\n",
      "Number of test samples:  30\n"
     ]
    }
   ],
   "source": [
    "# Train-test split\n",
    "from sklearn.model_selection import train_test_split\n",
    "from sklearn.datasets import load_iris\n",
    "\n",
    "X, y = load_iris(return_X_y=True)\n",
    "X_train, X_test, y_train, y_test = train_test_split(X, y, test_size=0.2, random_state=0)\n",
    "\n",
    "print(\"Number of training samples: \", len(X_train))\n",
    "print(\"Number of test samples: \", len(X_test))"
   ]
  },
  {
   "cell_type": "markdown",
   "metadata": {
    "slideshow": {
     "slide_type": "slide"
    }
   },
   "source": [
    "### 2.2.5 Others...\n",
    "\n",
    "- Discretizaition\n",
    "    - K-bins discretization\n",
    "    - Feature binarization\n",
    "- Custom transformers..."
   ]
  },
  {
   "cell_type": "markdown",
   "metadata": {
    "slideshow": {
     "slide_type": "slide"
    }
   },
   "source": [
    "### Data Analysis (X)\n",
    "\n",
    "- Loading, analysis, preprocessing\n",
    "\n",
    "### Model Implementation <=\n",
    "\n",
    "- Training, validation, tuning, ensembling\n",
    "\n",
    "### Performance Assessment\n",
    "\n",
    "- scoring, presenting"
   ]
  },
  {
   "cell_type": "markdown",
   "metadata": {
    "slideshow": {
     "slide_type": "slide"
    }
   },
   "source": [
    "## 2.3 Algorithms\n",
    "\n",
    "### Supervised Learning: \n",
    "- Classification models: Nearest Neighbor, Logistic Regression, SVM, Decision Tree, MLP...\n",
    "- Regression models: Linear Regression, Bayesian Regressian...\n",
    "- Stochastic Gradient Descent(SGD)\n",
    "\n",
    "### Unsupervised Learning:\n",
    "- Clustering: K-means, Gaussian Mixtures\n",
    "\n",
    "### Dimensionality Reduction:\n",
    "- PCA, LDA, ..."
   ]
  },
  {
   "cell_type": "markdown",
   "metadata": {
    "slideshow": {
     "slide_type": "slide"
    }
   },
   "source": [
    "### Takeaway:\n",
    "\n",
    "- Initialize( )\n",
    "\n",
    "- .fit( ): the model learns the data\n",
    "\n",
    "- .predict( ): the model makes predictions\n",
    "\n",
    "- .score( ): default scoring metrics"
   ]
  },
  {
   "cell_type": "code",
   "execution_count": 17,
   "metadata": {
    "slideshow": {
     "slide_type": "skip"
    }
   },
   "outputs": [],
   "source": [
    "def visualization(X, y, clf, model_name):\n",
    "# Create color maps\n",
    "    cmap_light = ListedColormap([\"orange\", \"cyan\", \"cornflowerblue\"])\n",
    "    cmap_bold = [\"darkorange\", \"c\", \"darkblue\"]\n",
    "\n",
    "    h = 0.02 # step size in the mesh\n",
    "    # Plot the decision boundary. For that, we will assign a color to each\n",
    "    # point in the mesh [x_min, x_max]x[y_min, y_max].\n",
    "    x_min, x_max = X[:, 0].min() - 1, X[:, 0].max() + 1\n",
    "    y_min, y_max = X[:, 1].min() - 1, X[:, 1].max() + 1\n",
    "    xx, yy = np.meshgrid(np.arange(x_min, x_max, h), np.arange(y_min, y_max, h))\n",
    "    Z = clf.predict(np.c_[xx.ravel(), yy.ravel()])\n",
    "\n",
    "    # Put the result into a color plot\n",
    "    Z = Z.reshape(xx.shape)\n",
    "    plt.figure(figsize=(8, 6))\n",
    "    plt.contourf(xx, yy, Z, cmap=cmap_light)\n",
    "\n",
    "    # Plot also the training points\n",
    "    sns.scatterplot(\n",
    "        x=X[:, 0],\n",
    "        y=X[:, 1],\n",
    "        hue=iris.target_names[y],\n",
    "        palette=cmap_bold,\n",
    "        alpha=1.0,\n",
    "        edgecolor=\"black\",\n",
    "    )\n",
    "    plt.xlim(xx.min(), xx.max())\n",
    "    plt.ylim(yy.min(), yy.max())\n",
    "    plt.title(\n",
    "        \"3-Class classification using \"+ model_name\n",
    "    )\n",
    "    plt.xlabel(iris.feature_names[0])\n",
    "    plt.ylabel(iris.feature_names[1])\n",
    "\n",
    "    plt.show()"
   ]
  },
  {
   "cell_type": "markdown",
   "metadata": {
    "slideshow": {
     "slide_type": "slide"
    }
   },
   "source": [
    "### 2.3.1 Supervised learning: classification"
   ]
  },
  {
   "cell_type": "code",
   "execution_count": 18,
   "metadata": {
    "slideshow": {
     "slide_type": "subslide"
    }
   },
   "outputs": [
    {
     "name": "stdout",
     "output_type": "stream",
     "text": [
      "Prediction: \n",
      "[0 0 0 0 0 0 0 0 0 0 0 0 0 0 0 0 0 0 0 0 0 0 0 0 0 0 0 0 0 0 0 0 0 0 0 0 0\n",
      " 0 0 0 0 0 0 0 0 0 0 0 0 0 2 2 2 1 2 1 2 1 2 1 1 1 1 1 1 2 1 1 2 1 1 2 2 2\n",
      " 2 2 1 2 1 1 1 1 1 1 1 1 2 2 1 1 1 1 1 1 1 1 1 2 1 1 2 1 2 2 2 2 0 2 2 2 2\n",
      " 2 1 1 1 2 2 2 2 1 2 1 2 2 2 2 2 1 2 2 2 2 2 2 1 2 2 2 1 2 2 2 1 2 2 2 2 2\n",
      " 2 1]\n",
      "Accuracy:  0.8066666666666666\n"
     ]
    }
   ],
   "source": [
    "# Nearest Neighbor Classification\n",
    "import numpy as np\n",
    "import matplotlib.pyplot as plt\n",
    "import seaborn as sns\n",
    "from matplotlib.colors import ListedColormap\n",
    "from sklearn import neighbors, datasets\n",
    "\n",
    "n_neighbors = 15\n",
    "# import dataset\n",
    "iris = datasets.load_iris()\n",
    "\n",
    "# we only take the first two features. \n",
    "X = iris.data[:, :2]\n",
    "y = iris.target\n",
    "\n",
    "clf = neighbors.KNeighborsClassifier(n_neighbors, weights='uniform')\n",
    "clf.fit(X, y)\n",
    "\n",
    "print(\"Prediction: \")\n",
    "print(clf.predict(X))\n",
    "print(\"Accuracy: \", clf.score(X, y))"
   ]
  },
  {
   "cell_type": "code",
   "execution_count": 19,
   "metadata": {
    "slideshow": {
     "slide_type": "subslide"
    }
   },
   "outputs": [
    {
     "data": {
      "image/png": "[encoded data removed]",
      "text/plain": [
       "<Figure size 576x432 with 1 Axes>"
      ]
     },
     "metadata": {
      "needs_background": "light"
     },
     "output_type": "display_data"
    }
   ],
   "source": [
    "visualization(X, y, clf, \"K Nearest Neighbor\")"
   ]
  },
  {
   "cell_type": "code",
   "execution_count": 20,
   "metadata": {
    "slideshow": {
     "slide_type": "subslide"
    }
   },
   "outputs": [
    {
     "name": "stdout",
     "output_type": "stream",
     "text": [
      "Prediction Result for first 10 samples: \n",
      "[0 0 0 0 0 0 0 0 0 0]\n",
      "Accuracy:  0.82\n"
     ]
    }
   ],
   "source": [
    "# Logistic Regression\n",
    "from sklearn.linear_model import LogisticRegression\n",
    "from sklearn.datasets import load_iris\n",
    "\n",
    "X, y = load_iris(return_X_y=True)\n",
    "X = X[:,:2]\n",
    "clf = LogisticRegression(random_state=0,max_iter=1000)\n",
    "\n",
    "clf.fit(X,y)\n",
    "print(\"Prediction Result for first 10 samples: \")\n",
    "print(clf.predict(X[:10,:]))\n",
    "print(\"Accuracy: \", clf.score(X,y))"
   ]
  },
  {
   "cell_type": "code",
   "execution_count": 21,
   "metadata": {
    "slideshow": {
     "slide_type": "subslide"
    }
   },
   "outputs": [
    {
     "data": {
      "image/png": "[encoded data removed]",
      "text/plain": [
       "<Figure size 576x432 with 1 Axes>"
      ]
     },
     "metadata": {
      "needs_background": "light"
     },
     "output_type": "display_data"
    }
   ],
   "source": [
    "visualization(X, y, clf, \"Logistic Regression\")"
   ]
  },
  {
   "cell_type": "code",
   "execution_count": 22,
   "metadata": {
    "slideshow": {
     "slide_type": "subslide"
    }
   },
   "outputs": [
    {
     "name": "stdout",
     "output_type": "stream",
     "text": [
      "Prediction Result for first 10 samples: \n",
      "[0 0 0 0 0 0 0 0 0 0]\n",
      "Accuracy:  0.82\n"
     ]
    }
   ],
   "source": [
    "#Support Vector Machine\n",
    "from sklearn import svm\n",
    "\n",
    "X, y = load_iris(return_X_y=True)\n",
    "X = X[:,:2]\n",
    "\n",
    "clf = svm.SVC()\n",
    "clf.fit(X, y)\n",
    "\n",
    "print(\"Prediction Result for first 10 samples: \")\n",
    "print(clf.predict(X[:10,:]))\n",
    "print(\"Accuracy: \", clf.score(X,y))"
   ]
  },
  {
   "cell_type": "code",
   "execution_count": 23,
   "metadata": {
    "slideshow": {
     "slide_type": "subslide"
    }
   },
   "outputs": [
    {
     "data": {
      "image/png": "[encoded data removed]",
      "text/plain": [
       "<Figure size 576x432 with 1 Axes>"
      ]
     },
     "metadata": {
      "needs_background": "light"
     },
     "output_type": "display_data"
    }
   ],
   "source": [
    "visualization(X, y, clf, \"SVM\")"
   ]
  },
  {
   "cell_type": "code",
   "execution_count": 24,
   "metadata": {
    "slideshow": {
     "slide_type": "subslide"
    }
   },
   "outputs": [
    {
     "name": "stdout",
     "output_type": "stream",
     "text": [
      "Prediction Result for first 10 samples: \n",
      "[0 0 0 0 0 0 0 0 0 0]\n",
      "Accuracy:  0.9266666666666666\n"
     ]
    }
   ],
   "source": [
    "# Decision Tree\n",
    "from sklearn import tree\n",
    "\n",
    "X, y = load_iris(return_X_y=True)\n",
    "X = X[:,:2]\n",
    "\n",
    "clf = tree.DecisionTreeClassifier()\n",
    "clf = clf.fit(X, y)\n",
    "\n",
    "print(\"Prediction Result for first 10 samples: \")\n",
    "print(clf.predict(X[:10,:]))\n",
    "print(\"Accuracy: \", clf.score(X,y))"
   ]
  },
  {
   "cell_type": "code",
   "execution_count": 25,
   "metadata": {
    "slideshow": {
     "slide_type": "slide"
    }
   },
   "outputs": [
    {
     "data": {
      "text/plain": [
       "[Text(123.50853658536586, 209.07692307692307, 'X[0] <= 5.45\\ngini = 0.667\\nsamples = 150\\nvalue = [50, 50, 50]'),\n",
       " Text(32.66341463414634, 192.35076923076923, 'X[1] <= 2.8\\ngini = 0.237\\nsamples = 52\\nvalue = [45, 6, 1]'),\n",
       " Text(16.33170731707317, 175.62461538461537, 'X[0] <= 4.7\\ngini = 0.449\\nsamples = 7\\nvalue = [1, 5, 1]'),\n",
       " Text(8.165853658536586, 158.89846153846153, 'gini = 0.0\\nsamples = 1\\nvalue = [1, 0, 0]'),\n",
       " Text(24.49756097560976, 158.89846153846153, 'X[0] <= 4.95\\ngini = 0.278\\nsamples = 6\\nvalue = [0, 5, 1]'),\n",
       " Text(16.33170731707317, 142.1723076923077, 'X[1] <= 2.45\\ngini = 0.5\\nsamples = 2\\nvalue = [0, 1, 1]'),\n",
       " Text(8.165853658536586, 125.44615384615385, 'gini = 0.0\\nsamples = 1\\nvalue = [0, 1, 0]'),\n",
       " Text(24.49756097560976, 125.44615384615385, 'gini = 0.0\\nsamples = 1\\nvalue = [0, 0, 1]'),\n",
       " Text(32.66341463414634, 142.1723076923077, 'gini = 0.0\\nsamples = 4\\nvalue = [0, 4, 0]'),\n",
       " Text(48.99512195121952, 175.62461538461537, 'X[0] <= 5.35\\ngini = 0.043\\nsamples = 45\\nvalue = [44, 1, 0]'),\n",
       " Text(40.829268292682926, 158.89846153846153, 'gini = 0.0\\nsamples = 39\\nvalue = [39, 0, 0]'),\n",
       " Text(57.1609756097561, 158.89846153846153, 'X[1] <= 3.2\\ngini = 0.278\\nsamples = 6\\nvalue = [5, 1, 0]'),\n",
       " Text(48.99512195121952, 142.1723076923077, 'gini = 0.0\\nsamples = 1\\nvalue = [0, 1, 0]'),\n",
       " Text(65.32682926829268, 142.1723076923077, 'gini = 0.0\\nsamples = 5\\nvalue = [5, 0, 0]'),\n",
       " Text(214.35365853658536, 192.35076923076923, 'X[0] <= 6.15\\ngini = 0.546\\nsamples = 98\\nvalue = [5, 44, 49]'),\n",
       " Text(138.81951219512194, 175.62461538461537, 'X[1] <= 3.45\\ngini = 0.508\\nsamples = 43\\nvalue = [5, 28, 10]'),\n",
       " Text(130.65365853658537, 158.89846153846153, 'X[0] <= 5.75\\ngini = 0.388\\nsamples = 38\\nvalue = [0, 28, 10]'),\n",
       " Text(81.65853658536585, 142.1723076923077, 'X[1] <= 2.85\\ngini = 0.208\\nsamples = 17\\nvalue = [0, 15, 2]'),\n",
       " Text(73.49268292682927, 125.44615384615385, 'X[0] <= 5.55\\ngini = 0.278\\nsamples = 12\\nvalue = [0, 10, 2]'),\n",
       " Text(65.32682926829268, 108.72, 'gini = 0.0\\nsamples = 5\\nvalue = [0, 5, 0]'),\n",
       " Text(81.65853658536585, 108.72, 'X[1] <= 2.55\\ngini = 0.408\\nsamples = 7\\nvalue = [0, 5, 2]'),\n",
       " Text(65.32682926829268, 91.99384615384615, 'X[0] <= 5.65\\ngini = 0.5\\nsamples = 2\\nvalue = [0, 1, 1]'),\n",
       " Text(57.1609756097561, 75.2676923076923, 'gini = 0.0\\nsamples = 1\\nvalue = [0, 1, 0]'),\n",
       " Text(73.49268292682927, 75.2676923076923, 'gini = 0.0\\nsamples = 1\\nvalue = [0, 0, 1]'),\n",
       " Text(97.99024390243903, 91.99384615384615, 'X[0] <= 5.65\\ngini = 0.32\\nsamples = 5\\nvalue = [0, 4, 1]'),\n",
       " Text(89.82439024390244, 75.2676923076923, 'X[1] <= 2.75\\ngini = 0.5\\nsamples = 2\\nvalue = [0, 1, 1]'),\n",
       " Text(81.65853658536585, 58.541538461538465, 'gini = 0.0\\nsamples = 1\\nvalue = [0, 1, 0]'),\n",
       " Text(97.99024390243903, 58.541538461538465, 'gini = 0.0\\nsamples = 1\\nvalue = [0, 0, 1]'),\n",
       " Text(106.15609756097561, 75.2676923076923, 'gini = 0.0\\nsamples = 3\\nvalue = [0, 3, 0]'),\n",
       " Text(89.82439024390244, 125.44615384615385, 'gini = 0.0\\nsamples = 5\\nvalue = [0, 5, 0]'),\n",
       " Text(179.64878048780488, 142.1723076923077, 'X[1] <= 3.1\\ngini = 0.472\\nsamples = 21\\nvalue = [0, 13, 8]'),\n",
       " Text(171.4829268292683, 125.44615384615385, 'X[1] <= 2.95\\ngini = 0.488\\nsamples = 19\\nvalue = [0, 11, 8]'),\n",
       " Text(155.15121951219513, 108.72, 'X[1] <= 2.85\\ngini = 0.459\\nsamples = 14\\nvalue = [0, 9, 5]'),\n",
       " Text(146.98536585365855, 91.99384615384615, 'X[0] <= 5.9\\ngini = 0.486\\nsamples = 12\\nvalue = [0, 7, 5]'),\n",
       " Text(122.48780487804878, 75.2676923076923, 'X[1] <= 2.65\\ngini = 0.5\\nsamples = 6\\nvalue = [0, 3, 3]'),\n",
       " Text(114.3219512195122, 58.541538461538465, 'gini = 0.0\\nsamples = 1\\nvalue = [0, 1, 0]'),\n",
       " Text(130.65365853658537, 58.541538461538465, 'X[1] <= 2.75\\ngini = 0.48\\nsamples = 5\\nvalue = [0, 2, 3]'),\n",
       " Text(122.48780487804878, 41.81538461538463, 'gini = 0.5\\nsamples = 4\\nvalue = [0, 2, 2]'),\n",
       " Text(138.81951219512194, 41.81538461538463, 'gini = 0.0\\nsamples = 1\\nvalue = [0, 0, 1]'),\n",
       " Text(171.4829268292683, 75.2676923076923, 'X[1] <= 2.65\\ngini = 0.444\\nsamples = 6\\nvalue = [0, 4, 2]'),\n",
       " Text(163.3170731707317, 58.541538461538465, 'X[1] <= 2.4\\ngini = 0.444\\nsamples = 3\\nvalue = [0, 1, 2]'),\n",
       " Text(155.15121951219513, 41.81538461538463, 'gini = 0.5\\nsamples = 2\\nvalue = [0, 1, 1]'),\n",
       " Text(171.4829268292683, 41.81538461538463, 'gini = 0.0\\nsamples = 1\\nvalue = [0, 0, 1]'),\n",
       " Text(179.64878048780488, 58.541538461538465, 'gini = 0.0\\nsamples = 3\\nvalue = [0, 3, 0]'),\n",
       " Text(163.3170731707317, 91.99384615384615, 'gini = 0.0\\nsamples = 2\\nvalue = [0, 2, 0]'),\n",
       " Text(187.81463414634146, 108.72, 'X[0] <= 5.95\\ngini = 0.48\\nsamples = 5\\nvalue = [0, 2, 3]'),\n",
       " Text(179.64878048780488, 91.99384615384615, 'gini = 0.5\\nsamples = 2\\nvalue = [0, 1, 1]'),\n",
       " Text(195.98048780487807, 91.99384615384615, 'X[0] <= 6.05\\ngini = 0.444\\nsamples = 3\\nvalue = [0, 1, 2]'),\n",
       " Text(187.81463414634146, 75.2676923076923, 'gini = 0.0\\nsamples = 1\\nvalue = [0, 0, 1]'),\n",
       " Text(204.14634146341464, 75.2676923076923, 'gini = 0.5\\nsamples = 2\\nvalue = [0, 1, 1]'),\n",
       " Text(187.81463414634146, 125.44615384615385, 'gini = 0.0\\nsamples = 2\\nvalue = [0, 2, 0]'),\n",
       " Text(146.98536585365855, 158.89846153846153, 'gini = 0.0\\nsamples = 5\\nvalue = [5, 0, 0]'),\n",
       " Text(289.88780487804877, 175.62461538461537, 'X[0] <= 7.05\\ngini = 0.413\\nsamples = 55\\nvalue = [0, 16, 39]'),\n",
       " Text(281.7219512195122, 158.89846153846153, 'X[1] <= 2.4\\ngini = 0.467\\nsamples = 43\\nvalue = [0, 16, 27]'),\n",
       " Text(273.5560975609756, 142.1723076923077, 'gini = 0.0\\nsamples = 2\\nvalue = [0, 2, 0]'),\n",
       " Text(289.88780487804877, 142.1723076923077, 'X[0] <= 6.95\\ngini = 0.45\\nsamples = 41\\nvalue = [0, 14, 27]'),\n",
       " Text(281.7219512195122, 125.44615384615385, 'X[1] <= 3.15\\ngini = 0.439\\nsamples = 40\\nvalue = [0, 13, 27]'),\n",
       " Text(244.97560975609755, 108.72, 'X[0] <= 6.55\\ngini = 0.471\\nsamples = 29\\nvalue = [0, 11, 18]'),\n",
       " Text(228.6439024390244, 91.99384615384615, 'X[1] <= 2.95\\ngini = 0.375\\nsamples = 16\\nvalue = [0, 4, 12]'),\n",
       " Text(220.4780487804878, 75.2676923076923, 'X[0] <= 6.45\\ngini = 0.444\\nsamples = 12\\nvalue = [0, 4, 8]'),\n",
       " Text(212.31219512195122, 58.541538461538465, 'X[1] <= 2.85\\ngini = 0.397\\nsamples = 11\\nvalue = [0, 3, 8]'),\n",
       " Text(195.98048780487807, 41.81538461538463, 'X[1] <= 2.6\\ngini = 0.219\\nsamples = 8\\nvalue = [0, 1, 7]'),\n",
       " Text(187.81463414634146, 25.089230769230767, 'gini = 0.5\\nsamples = 2\\nvalue = [0, 1, 1]'),\n",
       " Text(204.14634146341464, 25.089230769230767, 'gini = 0.0\\nsamples = 6\\nvalue = [0, 0, 6]'),\n",
       " Text(228.6439024390244, 41.81538461538463, 'X[0] <= 6.25\\ngini = 0.444\\nsamples = 3\\nvalue = [0, 2, 1]'),\n",
       " Text(220.4780487804878, 25.089230769230767, 'gini = 0.0\\nsamples = 1\\nvalue = [0, 1, 0]'),\n",
       " Text(236.80975609756098, 25.089230769230767, 'X[0] <= 6.35\\ngini = 0.5\\nsamples = 2\\nvalue = [0, 1, 1]'),\n",
       " Text(228.6439024390244, 8.363076923076932, 'gini = 0.0\\nsamples = 1\\nvalue = [0, 0, 1]'),\n",
       " Text(244.97560975609755, 8.363076923076932, 'gini = 0.0\\nsamples = 1\\nvalue = [0, 1, 0]'),\n",
       " Text(228.6439024390244, 58.541538461538465, 'gini = 0.0\\nsamples = 1\\nvalue = [0, 1, 0]'),\n",
       " Text(236.80975609756098, 75.2676923076923, 'gini = 0.0\\nsamples = 4\\nvalue = [0, 0, 4]'),\n",
       " Text(261.30731707317074, 91.99384615384615, 'X[0] <= 6.65\\ngini = 0.497\\nsamples = 13\\nvalue = [0, 7, 6]'),\n",
       " Text(253.14146341463416, 75.2676923076923, 'gini = 0.0\\nsamples = 2\\nvalue = [0, 2, 0]'),\n",
       " Text(269.47317073170734, 75.2676923076923, 'X[1] <= 2.65\\ngini = 0.496\\nsamples = 11\\nvalue = [0, 5, 6]'),\n",
       " Text(261.30731707317074, 58.541538461538465, 'gini = 0.0\\nsamples = 1\\nvalue = [0, 0, 1]'),\n",
       " Text(277.6390243902439, 58.541538461538465, 'X[1] <= 2.9\\ngini = 0.5\\nsamples = 10\\nvalue = [0, 5, 5]'),\n",
       " Text(269.47317073170734, 41.81538461538463, 'gini = 0.0\\nsamples = 1\\nvalue = [0, 1, 0]'),\n",
       " Text(285.8048780487805, 41.81538461538463, 'X[0] <= 6.75\\ngini = 0.494\\nsamples = 9\\nvalue = [0, 4, 5]'),\n",
       " Text(269.47317073170734, 25.089230769230767, 'X[1] <= 3.05\\ngini = 0.48\\nsamples = 5\\nvalue = [0, 3, 2]'),\n",
       " Text(261.30731707317074, 8.363076923076932, 'gini = 0.5\\nsamples = 2\\nvalue = [0, 1, 1]'),\n",
       " Text(277.6390243902439, 8.363076923076932, 'gini = 0.444\\nsamples = 3\\nvalue = [0, 2, 1]'),\n",
       " Text(302.13658536585365, 25.089230769230767, 'X[1] <= 3.05\\ngini = 0.375\\nsamples = 4\\nvalue = [0, 1, 3]'),\n",
       " Text(293.9707317073171, 8.363076923076932, 'gini = 0.0\\nsamples = 1\\nvalue = [0, 0, 1]'),\n",
       " Text(310.30243902439025, 8.363076923076932, 'gini = 0.444\\nsamples = 3\\nvalue = [0, 1, 2]'),\n",
       " Text(318.46829268292686, 108.72, 'X[0] <= 6.45\\ngini = 0.298\\nsamples = 11\\nvalue = [0, 2, 9]'),\n",
       " Text(310.30243902439025, 91.99384615384615, 'X[1] <= 3.35\\ngini = 0.444\\nsamples = 6\\nvalue = [0, 2, 4]'),\n",
       " Text(302.13658536585365, 75.2676923076923, 'X[0] <= 6.35\\ngini = 0.5\\nsamples = 4\\nvalue = [0, 2, 2]'),\n",
       " Text(293.9707317073171, 58.541538461538465, 'gini = 0.5\\nsamples = 2\\nvalue = [0, 1, 1]'),\n",
       " Text(310.30243902439025, 58.541538461538465, 'gini = 0.5\\nsamples = 2\\nvalue = [0, 1, 1]'),\n",
       " Text(318.46829268292686, 75.2676923076923, 'gini = 0.0\\nsamples = 2\\nvalue = [0, 0, 2]'),\n",
       " Text(326.6341463414634, 91.99384615384615, 'gini = 0.0\\nsamples = 5\\nvalue = [0, 0, 5]'),\n",
       " Text(298.0536585365854, 125.44615384615385, 'gini = 0.0\\nsamples = 1\\nvalue = [0, 1, 0]'),\n",
       " Text(298.0536585365854, 158.89846153846153, 'gini = 0.0\\nsamples = 12\\nvalue = [0, 0, 12]')]"
      ]
     },
     "execution_count": 25,
     "metadata": {},
     "output_type": "execute_result"
    },
    {
     "data": {
      "image/png": "[encoded data removed]",
      "text/plain": [
       "<Figure size 432x288 with 1 Axes>"
      ]
     },
     "metadata": {
      "needs_background": "light"
     },
     "output_type": "display_data"
    }
   ],
   "source": [
    "tree.plot_tree(clf)"
   ]
  },
  {
   "cell_type": "code",
   "execution_count": 26,
   "metadata": {
    "slideshow": {
     "slide_type": "subslide"
    }
   },
   "outputs": [
    {
     "data": {
      "image/png": "[encoded data removed]",
      "text/plain": [
       "<Figure size 576x432 with 1 Axes>"
      ]
     },
     "metadata": {
      "needs_background": "light"
     },
     "output_type": "display_data"
    }
   ],
   "source": [
    "visualization(X, y, clf, \"Decision Tree\")"
   ]
  },
  {
   "cell_type": "markdown",
   "metadata": {
    "slideshow": {
     "slide_type": "subslide"
    }
   },
   "source": [
    "class sklearn.neural_network.MLPClassifier(**hidden_layer_sizes**=(100,), **activation**='relu', **solver**='adam', **alpha**=0.0001, batch_size='auto', **learning_rate**='constant', learning_rate_init=0.001, power_t=0.5, **max_iter**=200, shuffle=True, random_state=None, tol=0.0001, verbose=False, warm_start=False, **momentum**=0.9, nesterovs_momentum=True, early_stopping=False, **validation_fraction**=0.1, beta_1=0.9, beta_2=0.999, epsilon=1e-08, n_iter_no_change=10, max_fun=15000)"
   ]
  },
  {
   "cell_type": "code",
   "execution_count": 27,
   "metadata": {
    "slideshow": {
     "slide_type": "subslide"
    }
   },
   "outputs": [
    {
     "name": "stdout",
     "output_type": "stream",
     "text": [
      "Prediction Result for first 10 samples: \n",
      "[0 0 0 0 0 0 0 0 0 0]\n",
      "Accuracy:  0.82\n"
     ]
    }
   ],
   "source": [
    "from sklearn.neural_network import MLPClassifier\n",
    "\n",
    "clf = MLPClassifier(activation='relu',solver='lbfgs', alpha=1e-5, \n",
    "                    hidden_layer_sizes=(5, 2), max_iter=1000,random_state=1)\n",
    "clf.fit(X, y)\n",
    "\n",
    "print(\"Prediction Result for first 10 samples: \")\n",
    "print(clf.predict(X[:10,:]))\n",
    "print(\"Accuracy: \", clf.score(X,y))"
   ]
  },
  {
   "cell_type": "code",
   "execution_count": 28,
   "metadata": {
    "slideshow": {
     "slide_type": "subslide"
    }
   },
   "outputs": [
    {
     "data": {
      "image/png": "[encoded data removed]",
      "text/plain": [
       "<Figure size 576x432 with 1 Axes>"
      ]
     },
     "metadata": {
      "needs_background": "light"
     },
     "output_type": "display_data"
    }
   ],
   "source": [
    "visualization(X, y, clf, \"MLP\")"
   ]
  },
  {
   "cell_type": "markdown",
   "metadata": {
    "slideshow": {
     "slide_type": "slide"
    }
   },
   "source": [
    "### 2.3.1 Supervised learning: regression"
   ]
  },
  {
   "cell_type": "code",
   "execution_count": 29,
   "metadata": {
    "slideshow": {
     "slide_type": "subslide"
    }
   },
   "outputs": [],
   "source": [
    "# Code source: Jaques Grobler\n",
    "# License: BSD 3 clause\n",
    "\n",
    "import matplotlib.pyplot as plt\n",
    "import numpy as np\n",
    "from sklearn import datasets, linear_model\n",
    "from sklearn.metrics import mean_squared_error, r2_score\n",
    "\n",
    "# Load the diabetes dataset\n",
    "diabetes_X, diabetes_y = datasets.load_diabetes(return_X_y=True)\n",
    "\n",
    "# Use only one feature\n",
    "diabetes_X = diabetes_X[:, np.newaxis, 2]\n",
    "\n",
    "# Split the data into training/testing sets\n",
    "diabetes_X_train = diabetes_X[:-20]\n",
    "diabetes_X_test = diabetes_X[-20:]\n",
    "\n",
    "# Split the targets into training/testing sets\n",
    "diabetes_y_train = diabetes_y[:-20]\n",
    "diabetes_y_test = diabetes_y[-20:]"
   ]
  },
  {
   "cell_type": "code",
   "execution_count": 30,
   "metadata": {
    "slideshow": {
     "slide_type": "subslide"
    }
   },
   "outputs": [
    {
     "name": "stdout",
     "output_type": "stream",
     "text": [
      "Coefficients: \n",
      " [938.23786125]\n",
      "Mean squared error: 2548.07\n",
      "Coefficient of determination: 0.47\n"
     ]
    }
   ],
   "source": [
    "# Create linear regression object\n",
    "regr = linear_model.LinearRegression()\n",
    "\n",
    "# Train the model using the training sets\n",
    "regr.fit(diabetes_X_train, diabetes_y_train)\n",
    "\n",
    "# Make predictions using the testing set\n",
    "diabetes_y_pred = regr.predict(diabetes_X_test)\n",
    "\n",
    "# The coefficients\n",
    "print(\"Coefficients: \\n\", regr.coef_)\n",
    "# The mean squared error\n",
    "print(\"Mean squared error: %.2f\" % mean_squared_error(diabetes_y_test, diabetes_y_pred))\n",
    "# The coefficient of determination: 1 is perfect prediction\n",
    "print(\"Coefficient of determination: %.2f\" % r2_score(diabetes_y_test, diabetes_y_pred))"
   ]
  },
  {
   "cell_type": "code",
   "execution_count": 31,
   "metadata": {
    "slideshow": {
     "slide_type": "subslide"
    }
   },
   "outputs": [
    {
     "data": {
      "image/png": "[encoded data removed]",
      "text/plain": [
       "<Figure size 432x288 with 1 Axes>"
      ]
     },
     "metadata": {},
     "output_type": "display_data"
    }
   ],
   "source": [
    "# Plot outputs\n",
    "plt.scatter(diabetes_X_test, diabetes_y_test, color=\"black\")\n",
    "plt.plot(diabetes_X_test, diabetes_y_pred, color=\"blue\", linewidth=3)\n",
    "\n",
    "plt.xticks(())\n",
    "plt.yticks(())\n",
    "\n",
    "plt.show()"
   ]
  },
  {
   "cell_type": "markdown",
   "metadata": {
    "slideshow": {
     "slide_type": "slide"
    }
   },
   "source": [
    "### 2.3.2 Unsupervised learning: clustering"
   ]
  },
  {
   "cell_type": "code",
   "execution_count": 32,
   "metadata": {
    "slideshow": {
     "slide_type": "subslide"
    }
   },
   "outputs": [],
   "source": [
    "import numpy as np\n",
    "import matplotlib.pyplot as plt\n",
    "from sklearn.cluster import KMeans\n",
    "from sklearn.datasets import make_blobs\n",
    "from sklearn.metrics.pairwise import pairwise_distances_argmin\n",
    "\n",
    "np.random.seed(0)\n",
    "\n",
    "centers = [[1, 1], [-1, -1], [1, -1]]\n",
    "n_clusters = len(centers)\n",
    "X, labels_true = make_blobs(n_samples=3000, centers=centers, cluster_std=0.7)\n",
    "# #############################################################################\n",
    "# Compute clustering with Means\n",
    "\n",
    "k_means = KMeans(init=\"k-means++\", n_clusters=3, n_init=10)\n",
    "k_means.fit(X)\n",
    "k_means_cluster_centers = k_means.cluster_centers_\n",
    "k_means_labels = pairwise_distances_argmin(X, k_means_cluster_centers)"
   ]
  },
  {
   "cell_type": "code",
   "execution_count": 33,
   "metadata": {
    "slideshow": {
     "slide_type": "subslide"
    }
   },
   "outputs": [
    {
     "ename": "NameError",
     "evalue": "name 'col' is not defined",
     "output_type": "error",
     "traceback": [
      "\u001b[0;31m---------------------------------------------------------------------------\u001b[0m",
      "\u001b[0;31mNameError\u001b[0m                                 Traceback (most recent call last)",
      "\u001b[0;32m/var/folders/bf/9psf2vt14zjc1s25cdd3ll7h0000gn/T/ipykernel_61781/506464104.py\u001b[0m in \u001b[0;36m<module>\u001b[0;34m\u001b[0m\n\u001b[1;32m      1\u001b[0m \u001b[0;31m# Visualize original data\u001b[0m\u001b[0;34m\u001b[0m\u001b[0;34m\u001b[0m\u001b[0m\n\u001b[1;32m      2\u001b[0m \u001b[0;34m\u001b[0m\u001b[0m\n\u001b[0;32m----> 3\u001b[0;31m \u001b[0mplt\u001b[0m\u001b[0;34m.\u001b[0m\u001b[0mscatter\u001b[0m\u001b[0;34m(\u001b[0m\u001b[0mX\u001b[0m\u001b[0;34m[\u001b[0m\u001b[0;34m:\u001b[0m\u001b[0;34m,\u001b[0m \u001b[0;36m0\u001b[0m\u001b[0;34m]\u001b[0m\u001b[0;34m,\u001b[0m \u001b[0mX\u001b[0m\u001b[0;34m[\u001b[0m\u001b[0;34m:\u001b[0m\u001b[0;34m,\u001b[0m \u001b[0;36m1\u001b[0m\u001b[0;34m]\u001b[0m\u001b[0;34m,\u001b[0m \u001b[0mcolor\u001b[0m\u001b[0;34m=\u001b[0m\u001b[0mcol\u001b[0m\u001b[0;34m,\u001b[0m \u001b[0mmarker\u001b[0m\u001b[0;34m=\u001b[0m\u001b[0;34m\".\"\u001b[0m\u001b[0;34m)\u001b[0m\u001b[0;34m\u001b[0m\u001b[0;34m\u001b[0m\u001b[0m\n\u001b[0m",
      "\u001b[0;31mNameError\u001b[0m: name 'col' is not defined"
     ]
    }
   ],
   "source": [
    "# Visualize original data\n",
    "\n",
    "plt.scatter(X[:, 0], X[:, 1], color=col, marker=\".\")"
   ]
  },
  {
   "cell_type": "code",
   "execution_count": null,
   "metadata": {
    "slideshow": {
     "slide_type": "subslide"
    }
   },
   "outputs": [],
   "source": [
    "colors = [\"#4EACC5\", \"#FF9C34\", \"#4E9A06\"]\n",
    "for k, col in zip(range(n_clusters), colors):\n",
    "    my_members = k_means_labels == k\n",
    "    cluster_center = k_means_cluster_centers[k]\n",
    "    plt.scatter(X[my_members, 0], X[my_members, 1], color=col, marker=\".\")\n",
    "    plt.scatter(\n",
    "        cluster_center[0],\n",
    "        cluster_center[1],\n",
    "        marker=\"o\",\n",
    "        c=col,\n",
    "        edgecolors=\"k\",\n",
    "    )\n",
    "plt.show()"
   ]
  },
  {
   "cell_type": "markdown",
   "metadata": {
    "slideshow": {
     "slide_type": "slide"
    }
   },
   "source": [
    "### 2.3.3 Dimensionality Reduction"
   ]
  },
  {
   "cell_type": "code",
   "execution_count": 34,
   "metadata": {
    "slideshow": {
     "slide_type": "subslide"
    }
   },
   "outputs": [],
   "source": [
    "# PCA\n",
    "from sklearn import datasets\n",
    "from sklearn.decomposition import PCA\n",
    "from sklearn.discriminant_analysis import LinearDiscriminantAnalysis\n",
    "\n",
    "iris = datasets.load_iris()\n",
    "\n",
    "X = iris.data\n",
    "y = iris.target\n",
    "target_names = iris.target_names"
   ]
  },
  {
   "cell_type": "code",
   "execution_count": 35,
   "metadata": {
    "slideshow": {
     "slide_type": "subslide"
    }
   },
   "outputs": [
    {
     "data": {
      "text/plain": [
       "Text(0.5, 1.0, 'PCA of IRIS dataset')"
      ]
     },
     "execution_count": 35,
     "metadata": {},
     "output_type": "execute_result"
    },
    {
     "data": {
      "image/png": "[encoded data removed]",
      "text/plain": [
       "<Figure size 432x288 with 1 Axes>"
      ]
     },
     "metadata": {
      "needs_background": "light"
     },
     "output_type": "display_data"
    }
   ],
   "source": [
    "pca = PCA(n_components=2)\n",
    "X_r = pca.fit(X).transform(X)\n",
    "\n",
    "plt.figure()\n",
    "colors = [\"navy\", \"turquoise\", \"darkorange\"]\n",
    "lw = 2\n",
    "\n",
    "for color, i, target_name in zip(colors, [0, 1, 2], target_names):\n",
    "    plt.scatter(\n",
    "        X_r[y == i, 0], X_r[y == i, 1], color=color, alpha=0.8, lw=lw, label=target_name\n",
    "    )\n",
    "plt.legend(loc=\"best\", shadow=False, scatterpoints=1)\n",
    "plt.title(\"PCA of IRIS dataset\")"
   ]
  },
  {
   "cell_type": "code",
   "execution_count": 36,
   "metadata": {
    "slideshow": {
     "slide_type": "subslide"
    }
   },
   "outputs": [
    {
     "data": {
      "text/plain": [
       "Text(0.5, 1.0, 'LDA of IRIS dataset')"
      ]
     },
     "execution_count": 36,
     "metadata": {},
     "output_type": "execute_result"
    },
    {
     "data": {
      "image/png": "[encoded data removed]",
      "text/plain": [
       "<Figure size 432x288 with 1 Axes>"
      ]
     },
     "metadata": {
      "needs_background": "light"
     },
     "output_type": "display_data"
    }
   ],
   "source": [
    "lda = LinearDiscriminantAnalysis(n_components=2)\n",
    "X_r2 = lda.fit(X, y).transform(X)\n",
    "\n",
    "plt.figure()\n",
    "for color, i, target_name in zip(colors, [0, 1, 2], target_names):\n",
    "    plt.scatter(\n",
    "        X_r2[y == i, 0], X_r2[y == i, 1], alpha=0.8, color=color, label=target_name\n",
    "    )\n",
    "plt.legend(loc=\"best\", shadow=False, scatterpoints=1)\n",
    "plt.title(\"LDA of IRIS dataset\")"
   ]
  },
  {
   "cell_type": "markdown",
   "metadata": {
    "slideshow": {
     "slide_type": "slide"
    }
   },
   "source": [
    "### Data Analysis (X)\n",
    "\n",
    "- Loading, analysis, preprocessing\n",
    "\n",
    "### Model Implementation (X)\n",
    "\n",
    "- Training, validation, tuning, ensembling\n",
    "\n",
    "### Performance Assessment <=\n",
    "\n",
    "- scoring, presenting"
   ]
  },
  {
   "cell_type": "markdown",
   "metadata": {
    "slideshow": {
     "slide_type": "slide"
    }
   },
   "source": [
    "## 2.4 Model Selection\n",
    "\n",
    "- Cross validation\n",
    "- Parameters tuning(grid search)\n",
    "- Metric and scoring\n",
    "- \\*Validation and learning curve\n",
    "- Ensemble methods"
   ]
  },
  {
   "cell_type": "markdown",
   "metadata": {
    "slideshow": {
     "slide_type": "slide"
    }
   },
   "source": [
    "### 2.4.1 Cross validation"
   ]
  },
  {
   "cell_type": "code",
   "execution_count": 37,
   "metadata": {
    "slideshow": {
     "slide_type": "subslide"
    }
   },
   "outputs": [
    {
     "name": "stdout",
     "output_type": "stream",
     "text": [
      "Keys of scores: ['estimator', 'fit_time', 'score_time', 'test_precision_macro', 'test_recall_macro']\n",
      "Recall Macro:  [0.96666667 1.         0.96666667 0.96666667 1.        ]\n"
     ]
    }
   ],
   "source": [
    "# Model Selection\n",
    "## Cross Validation\n",
    "\n",
    "from sklearn.model_selection import cross_validate\n",
    "from sklearn.datasets import load_iris\n",
    "from sklearn import svm\n",
    "\n",
    "X, y = load_iris(return_X_y=True)\n",
    "clf = svm.SVC(kernel='linear', C=1, random_state=0)\n",
    "\n",
    "scoring = ['precision_macro', 'recall_macro']\n",
    "scores = cross_validate(clf, X, y, scoring=scoring, cv=5,return_estimator=True)\n",
    "\n",
    "print(\"Keys of scores:\", sorted(scores.keys()))\n",
    "print(\"Recall Macro: \", scores['test_recall_macro'])"
   ]
  },
  {
   "cell_type": "code",
   "execution_count": 38,
   "metadata": {
    "slideshow": {
     "slide_type": "subslide"
    }
   },
   "outputs": [
    {
     "data": {
      "text/plain": [
       "[SVC(C=1, kernel='linear', random_state=0),\n",
       " SVC(C=1, kernel='linear', random_state=0),\n",
       " SVC(C=1, kernel='linear', random_state=0),\n",
       " SVC(C=1, kernel='linear', random_state=0),\n",
       " SVC(C=1, kernel='linear', random_state=0)]"
      ]
     },
     "execution_count": 38,
     "metadata": {},
     "output_type": "execute_result"
    }
   ],
   "source": [
    "scores[\"estimator\"]"
   ]
  },
  {
   "cell_type": "markdown",
   "metadata": {
    "slideshow": {
     "slide_type": "slide"
    }
   },
   "source": [
    "### 2.4.2 Tuning parameters\n",
    "\n",
    "- Grid search\n",
    "\n",
    "- Randomized parameter optimization\n",
    "\n",
    "- Sucessive halving..."
   ]
  },
  {
   "cell_type": "code",
   "execution_count": 39,
   "metadata": {
    "slideshow": {
     "slide_type": "subslide"
    }
   },
   "outputs": [],
   "source": [
    "## Grid search\n",
    "from sklearn.datasets import load_iris\n",
    "from matplotlib import pyplot as plt\n",
    "from sklearn.svm import SVC\n",
    "from sklearn.model_selection import GridSearchCV, cross_val_score, KFold\n",
    "import numpy as np\n",
    "\n",
    "# Number of random trials\n",
    "NUM_TRIALS = 30\n",
    "\n",
    "# Load the dataset\n",
    "iris = load_iris()\n",
    "X_iris = iris.data\n",
    "y_iris = iris.target\n",
    "\n",
    "# Set up possible values of parameters to optimize over\n",
    "p_grid = {\"C\": [1, 10, 100], \"gamma\": [0.01, 0.1]}\n",
    "\n",
    "# We will use a Support Vector Classifier with \"rbf\" kernel\n",
    "svm = SVC(kernel=\"rbf\")\n",
    "\n",
    "# Arrays to store scores\n",
    "non_nested_scores = np.zeros(NUM_TRIALS)\n",
    "nested_scores = np.zeros(NUM_TRIALS)"
   ]
  },
  {
   "cell_type": "code",
   "execution_count": 40,
   "metadata": {
    "slideshow": {
     "slide_type": "subslide"
    }
   },
   "outputs": [
    {
     "name": "stdout",
     "output_type": "stream",
     "text": [
      "Average difference of 0.007581 with std. dev. of 0.007833.\n"
     ]
    }
   ],
   "source": [
    "# Loop for each trial\n",
    "for i in range(NUM_TRIALS):\n",
    "    inner_cv = KFold(n_splits=4, shuffle=True, random_state=i)\n",
    "    outer_cv = KFold(n_splits=4, shuffle=True, random_state=i)\n",
    "\n",
    "    # Non_nested parameter search and scoring\n",
    "    clf = GridSearchCV(estimator=svm, param_grid=p_grid, cv=outer_cv)\n",
    "    clf.fit(X_iris, y_iris)\n",
    "    non_nested_scores[i] = clf.best_score_\n",
    "    \n",
    "    #print(clf.best_params_)\n",
    "\n",
    "    # Nested CV with parameter optimization\n",
    "    clf = GridSearchCV(estimator=svm, param_grid=p_grid, cv=inner_cv)\n",
    "    nested_score = cross_val_score(clf, X=X_iris, y=y_iris, cv=outer_cv)\n",
    "    nested_scores[i] = nested_score.mean()\n",
    "\n",
    "score_difference = non_nested_scores - nested_scores\n",
    "\n",
    "print(\n",
    "    \"Average difference of {:6f} with std. dev. of {:6f}.\".format(\n",
    "        score_difference.mean(), score_difference.std()\n",
    "    )\n",
    ")"
   ]
  },
  {
   "cell_type": "code",
   "execution_count": 41,
   "metadata": {
    "slideshow": {
     "slide_type": "skip"
    }
   },
   "outputs": [],
   "source": [
    "def grid_search_visualize():\n",
    "    # Plot scores on each trial for nested and non-nested CV\n",
    "    plt.figure()\n",
    "    plt.subplot(211)\n",
    "    (non_nested_scores_line,) = plt.plot(non_nested_scores, color=\"r\")\n",
    "    (nested_line,) = plt.plot(nested_scores, color=\"b\")\n",
    "    plt.ylabel(\"score\", fontsize=\"14\")\n",
    "    plt.legend(\n",
    "        [non_nested_scores_line, nested_line],\n",
    "        [\"Non-Nested CV\", \"Nested CV\"],\n",
    "        bbox_to_anchor=(0, 0.4, 0.5, 0),\n",
    "    )\n",
    "    plt.title(\n",
    "        \"Non-Nested and Nested Cross Validation on Iris Dataset\",\n",
    "        x=0.5,\n",
    "        y=1.1,\n",
    "        fontsize=\"15\",\n",
    "    )\n",
    "\n",
    "    # Plot bar chart of the difference.\n",
    "    plt.subplot(212)\n",
    "    difference_plot = plt.bar(range(NUM_TRIALS), score_difference)\n",
    "    plt.xlabel(\"Individual Trial #\")\n",
    "    plt.legend(\n",
    "        [difference_plot],\n",
    "        [\"Non-Nested CV - Nested CV Score\"],\n",
    "        bbox_to_anchor=(0, 1, 0.8, 0),\n",
    "    )\n",
    "    plt.ylabel(\"score difference\", fontsize=\"14\")\n",
    "\n",
    "    plt.show()"
   ]
  },
  {
   "cell_type": "code",
   "execution_count": 42,
   "metadata": {
    "slideshow": {
     "slide_type": "subslide"
    }
   },
   "outputs": [
    {
     "data": {
      "image/png": "[encoded data removed]",
      "text/plain": [
       "<Figure size 432x288 with 2 Axes>"
      ]
     },
     "metadata": {
      "needs_background": "light"
     },
     "output_type": "display_data"
    }
   ],
   "source": [
    "grid_search_visualize()"
   ]
  },
  {
   "cell_type": "markdown",
   "metadata": {
    "slideshow": {
     "slide_type": "fragment"
    }
   },
   "source": [
    "Nested CV estimates the generalization error of the underlying model and its (hyper)parameter search. Choosing the parameters that maximize non-nested CV biases the model to the dataset, yielding an overly-optimistic score.\n",
    "\n",
    "Model selection without nested CV uses the same data to tune model parameters and evaluate model performance."
   ]
  },
  {
   "cell_type": "markdown",
   "metadata": {
    "slideshow": {
     "slide_type": "slide"
    }
   },
   "source": [
    "### 2.4.3 Metrics and Scoring\n",
    "\n",
    "#### Estimator score methods(*)\n",
    "\n",
    "Default evaluation criterion provided by estimators. \n",
    "\n",
    "#### Scoring parameter\n",
    "\n",
    "Internal *scoring* strategy.\n",
    "#### Metric functions\n",
    "\n",
    "Functions implemented for assessing prediction result."
   ]
  },
  {
   "cell_type": "markdown",
   "metadata": {
    "slideshow": {
     "slide_type": "subslide"
    }
   },
   "source": [
    "#### Scoring parameter:\n",
    "\n",
    "- Customize pre-defined metrics\n",
    "\n",
    "- Build your own scorer"
   ]
  },
  {
   "cell_type": "code",
   "execution_count": 43,
   "metadata": {
    "slideshow": {
     "slide_type": "fragment"
    }
   },
   "outputs": [],
   "source": [
    "# Case 1: Customize pre-defined metrics\n",
    "from sklearn.metrics import fbeta_score, make_scorer\n",
    "ftwo_scorer = make_scorer(fbeta_score, beta=2)\n",
    "\n",
    "# Case 2: Build your own scorer\n",
    "import numpy as np\n",
    "\n",
    "def my_custom_loss_func(y_true, y_pred):\n",
    "    diff = np.abs(y_true - y_pred).max()\n",
    "    return np.log1p(diff)\n",
    "\n",
    "score = make_scorer(my_custom_loss_func, greater_is_better=False)\n",
    "\n",
    "# Apply your scorer to estimator\\\n",
    "from sklearn.model_selection import GridSearchCV\n",
    "from sklearn.svm import LinearSVC\n",
    "grid = GridSearchCV(LinearSVC(), param_grid={'C': [1, 10]},\n",
    "                 scoring=ftwo_scorer, cv=5)"
   ]
  },
  {
   "cell_type": "markdown",
   "metadata": {
    "slideshow": {
     "slide_type": "subslide"
    }
   },
   "source": [
    "#### Metric functions (Take away): \n",
    "\n",
    "- functions ending with *_score* return a value to maximize, the higher the better.\n",
    "\n",
    "- functions ending with *_error* or *_loss* return a value to minimize, the lower the better. "
   ]
  },
  {
   "cell_type": "code",
   "execution_count": 44,
   "metadata": {
    "slideshow": {
     "slide_type": "fragment"
    }
   },
   "outputs": [
    {
     "data": {
      "text/plain": [
       "0.5"
      ]
     },
     "execution_count": 44,
     "metadata": {},
     "output_type": "execute_result"
    }
   ],
   "source": [
    "# Metric functions\n",
    "from sklearn.metrics import accuracy_score\n",
    "y_pred = [0, 2, 1, 3]\n",
    "y_true = [0, 1, 2, 3]\n",
    "accuracy_score(y_true, y_pred)"
   ]
  },
  {
   "cell_type": "markdown",
   "metadata": {
    "slideshow": {
     "slide_type": "slide"
    }
   },
   "source": [
    "### 2.4.4 \\*Validation and learning curve\n",
    "\n",
    "#### Validation curve\n",
    "\n",
    "- Plot the influence of a single hyperparameter.\n",
    "\n",
    "- Is the model overfitting/underfitting?\n",
    "\n",
    "#### Learning curve\n",
    "\n",
    "- Plot the influence of number of training samples.\n",
    "\n",
    "- Is there bias/variance error? "
   ]
  },
  {
   "cell_type": "code",
   "execution_count": 45,
   "metadata": {
    "slideshow": {
     "slide_type": "subslide"
    }
   },
   "outputs": [
    {
     "name": "stdout",
     "output_type": "stream",
     "text": [
      "Train scores:\n",
      "[[0.93402178 0.94366418 0.92648383 0.91933313 0.92922507]\n",
      " [0.9340217  0.94366412 0.92648377 0.91933304 0.929225  ]\n",
      " [0.51143526 0.52415737 0.49868907 0.47086988 0.49623503]]\n",
      "Validation scores:\n",
      "[[0.9055033  0.84185935 0.94569793 0.96231017 0.93366144]\n",
      " [0.90550088 0.84184574 0.94568969 0.96233172 0.93366806]\n",
      " [0.46706558 0.25698974 0.50496293 0.49826404 0.52500014]]\n"
     ]
    }
   ],
   "source": [
    "# Validation curve\n",
    "import numpy as np\n",
    "from sklearn.model_selection import validation_curve\n",
    "from sklearn.datasets import load_iris\n",
    "from sklearn.linear_model import Ridge\n",
    "np.random.seed(0)\n",
    "X, y = load_iris(return_X_y=True)\n",
    "indices = np.arange(y.shape[0])\n",
    "np.random.shuffle(indices)\n",
    "X, y = X[indices], y[indices]\n",
    "\n",
    "train_scores, valid_scores = validation_curve(\n",
    "    Ridge(), X, y, param_name=\"alpha\", param_range=np.logspace(-7, 3, 3),\n",
    "    cv=5)\n",
    "print(\"Train scores:\")\n",
    "print(train_scores)\n",
    "print(\"Validation scores:\")\n",
    "print(valid_scores)"
   ]
  },
  {
   "cell_type": "code",
   "execution_count": 46,
   "metadata": {
    "slideshow": {
     "slide_type": "subslide"
    }
   },
   "outputs": [
    {
     "name": "stdout",
     "output_type": "stream",
     "text": [
      "Train scores:\n",
      "[[0.98       0.98       0.98       0.98       0.98      ]\n",
      " [0.9875     1.         0.9875     0.9875     0.9875    ]\n",
      " [0.98181818 1.         0.98181818 0.98181818 0.99090909]]\n",
      "Validation scores:\n",
      "[[1.         0.93333333 1.         1.         0.96666667]\n",
      " [1.         0.96666667 1.         1.         0.96666667]\n",
      " [1.         0.96666667 1.         1.         0.96666667]]\n"
     ]
    }
   ],
   "source": [
    "from sklearn.svm import SVC\n",
    "from sklearn.model_selection import learning_curve\n",
    "\n",
    "train_sizes, train_scores, valid_scores = learning_curve(\n",
    "   SVC(kernel='linear'), X, y, train_sizes=[50, 80, 110], cv=5)\n",
    "print(\"Train scores:\")\n",
    "print(train_scores)\n",
    "print(\"Validation scores:\")\n",
    "print(valid_scores)"
   ]
  },
  {
   "cell_type": "markdown",
   "metadata": {
    "slideshow": {
     "slide_type": "slide"
    }
   },
   "source": [
    "### 2.4.5 Ensemble Methods\n",
    "\n",
    "- Aggregate individual predictions to form a final prediction\n",
    "\n",
    "- Voting, Bagging, AdaBoost, Gradient Tree Boosting..."
   ]
  },
  {
   "cell_type": "code",
   "execution_count": 47,
   "metadata": {
    "slideshow": {
     "slide_type": "subslide"
    }
   },
   "outputs": [
    {
     "name": "stdout",
     "output_type": "stream",
     "text": [
      "Accuracy: 0.95 (+/- 0.04) [Logistic Regression]\n",
      "Accuracy: 0.94 (+/- 0.04) [Random Forest]\n",
      "Accuracy: 0.91 (+/- 0.04) [naive Bayes]\n",
      "Accuracy: 0.95 (+/- 0.04) [Ensemble]\n"
     ]
    }
   ],
   "source": [
    "# Ensemble Methods\n",
    "# Run lively\n",
    "from sklearn import datasets\n",
    "from sklearn.model_selection import cross_val_score\n",
    "from sklearn.linear_model import LogisticRegression\n",
    "from sklearn.naive_bayes import GaussianNB\n",
    "from sklearn.ensemble import RandomForestClassifier\n",
    "from sklearn.ensemble import VotingClassifier\n",
    "\n",
    "iris = datasets.load_iris()\n",
    "X, y = iris.data[:, 1:3], iris.target\n",
    "\n",
    "clf1 = LogisticRegression(random_state=1)\n",
    "clf2 = RandomForestClassifier(n_estimators=50, random_state=1)\n",
    "clf3 = GaussianNB()\n",
    "\n",
    "eclf = VotingClassifier(\n",
    "    estimators=[('lr', clf1), ('rf', clf2), ('gnb', clf3)],\n",
    "    voting='hard')\n",
    "\n",
    "for clf, label in zip([clf1, clf2, clf3, eclf], ['Logistic Regression', 'Random Forest', 'naive Bayes', 'Ensemble']):\n",
    "    scores = cross_val_score(clf, X, y, scoring='accuracy', cv=5)\n",
    "    print(\"Accuracy: %0.2f (+/- %0.2f) [%s]\" % (scores.mean(), scores.std(), label))"
   ]
  },
  {
   "cell_type": "markdown",
   "metadata": {
    "slideshow": {
     "slide_type": "slide"
    }
   },
   "source": [
    "# Q & A"
   ]
  }
 ],
 "metadata": {
  "celltoolbar": "Slideshow",
  "kernelspec": {
   "display_name": "Python 3 (ipykernel)",
   "language": "python",
   "name": "python3"
  },
  "language_info": {
   "codemirror_mode": {
    "name": "ipython",
    "version": 3
   },
   "file_extension": ".py",
   "mimetype": "text/x-python",
   "name": "python",
   "nbconvert_exporter": "python",
   "pygments_lexer": "ipython3",
   "version": "3.9.7"
  }
 },
 "nbformat": 4,
 "nbformat_minor": 4
}
