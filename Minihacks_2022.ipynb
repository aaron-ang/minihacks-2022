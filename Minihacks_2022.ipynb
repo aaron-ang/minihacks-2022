{
 "cells": [
  {
   "cell_type": "code",
   "execution_count": 1,
   "id": "b522b98c",
   "metadata": {},
   "outputs": [],
   "source": [
    "import pandas as pd\n",
    "import numpy as np\n",
    "import matplotlib.pyplot as plt\n",
    "import seaborn as sns\n",
    "from sklearn.model_selection import train_test_split # dataframe splitting\n",
    "from sklearn.metrics import mean_squared_error, r2_score # model scoring metric"
   ]
  },
  {
   "cell_type": "markdown",
   "id": "d6d22d48",
   "metadata": {},
   "source": [
    "## Exploratory Data Analysis"
   ]
  },
  {
   "cell_type": "code",
   "execution_count": 2,
   "id": "d7eb75d6",
   "metadata": {},
   "outputs": [
    {
     "data": {
      "text/html": [
       "<div>\n",
       "<style scoped>\n",
       "    .dataframe tbody tr th:only-of-type {\n",
       "        vertical-align: middle;\n",
       "    }\n",
       "\n",
       "    .dataframe tbody tr th {\n",
       "        vertical-align: top;\n",
       "    }\n",
       "\n",
       "    .dataframe thead th {\n",
       "        text-align: right;\n",
       "    }\n",
       "</style>\n",
       "<table border=\"1\" class=\"dataframe\">\n",
       "  <thead>\n",
       "    <tr style=\"text-align: right;\">\n",
       "      <th></th>\n",
       "      <th>ID</th>\n",
       "      <th>school</th>\n",
       "      <th>sex</th>\n",
       "      <th>age</th>\n",
       "      <th>address</th>\n",
       "      <th>famsize</th>\n",
       "      <th>Pstatus</th>\n",
       "      <th>Medu</th>\n",
       "      <th>Fedu</th>\n",
       "      <th>Mjob</th>\n",
       "      <th>...</th>\n",
       "      <th>internet</th>\n",
       "      <th>romantic</th>\n",
       "      <th>famrel</th>\n",
       "      <th>freetime</th>\n",
       "      <th>goout</th>\n",
       "      <th>Dalc</th>\n",
       "      <th>Walc</th>\n",
       "      <th>health</th>\n",
       "      <th>absences</th>\n",
       "      <th>grade</th>\n",
       "    </tr>\n",
       "  </thead>\n",
       "  <tbody>\n",
       "    <tr>\n",
       "      <th>0</th>\n",
       "      <td>177</td>\n",
       "      <td>GP</td>\n",
       "      <td>F</td>\n",
       "      <td>17</td>\n",
       "      <td>U</td>\n",
       "      <td>GT3</td>\n",
       "      <td>T</td>\n",
       "      <td>2</td>\n",
       "      <td>2</td>\n",
       "      <td>other</td>\n",
       "      <td>...</td>\n",
       "      <td>yes</td>\n",
       "      <td>no</td>\n",
       "      <td>5</td>\n",
       "      <td>4</td>\n",
       "      <td>5</td>\n",
       "      <td>1</td>\n",
       "      <td>2</td>\n",
       "      <td>5</td>\n",
       "      <td>12</td>\n",
       "      <td>14</td>\n",
       "    </tr>\n",
       "    <tr>\n",
       "      <th>1</th>\n",
       "      <td>368</td>\n",
       "      <td>GP</td>\n",
       "      <td>F</td>\n",
       "      <td>15</td>\n",
       "      <td>U</td>\n",
       "      <td>GT3</td>\n",
       "      <td>T</td>\n",
       "      <td>2</td>\n",
       "      <td>2</td>\n",
       "      <td>other</td>\n",
       "      <td>...</td>\n",
       "      <td>yes</td>\n",
       "      <td>no</td>\n",
       "      <td>5</td>\n",
       "      <td>1</td>\n",
       "      <td>2</td>\n",
       "      <td>1</td>\n",
       "      <td>1</td>\n",
       "      <td>3</td>\n",
       "      <td>4</td>\n",
       "      <td>10</td>\n",
       "    </tr>\n",
       "    <tr>\n",
       "      <th>2</th>\n",
       "      <td>120</td>\n",
       "      <td>GP</td>\n",
       "      <td>M</td>\n",
       "      <td>17</td>\n",
       "      <td>U</td>\n",
       "      <td>GT3</td>\n",
       "      <td>T</td>\n",
       "      <td>1</td>\n",
       "      <td>2</td>\n",
       "      <td>at_home</td>\n",
       "      <td>...</td>\n",
       "      <td>yes</td>\n",
       "      <td>no</td>\n",
       "      <td>4</td>\n",
       "      <td>4</td>\n",
       "      <td>4</td>\n",
       "      <td>4</td>\n",
       "      <td>5</td>\n",
       "      <td>5</td>\n",
       "      <td>16</td>\n",
       "      <td>12</td>\n",
       "    </tr>\n",
       "    <tr>\n",
       "      <th>3</th>\n",
       "      <td>230</td>\n",
       "      <td>MS</td>\n",
       "      <td>F</td>\n",
       "      <td>17</td>\n",
       "      <td>R</td>\n",
       "      <td>GT3</td>\n",
       "      <td>T</td>\n",
       "      <td>1</td>\n",
       "      <td>1</td>\n",
       "      <td>other</td>\n",
       "      <td>...</td>\n",
       "      <td>yes</td>\n",
       "      <td>yes</td>\n",
       "      <td>5</td>\n",
       "      <td>2</td>\n",
       "      <td>1</td>\n",
       "      <td>1</td>\n",
       "      <td>2</td>\n",
       "      <td>1</td>\n",
       "      <td>0</td>\n",
       "      <td>9</td>\n",
       "    </tr>\n",
       "    <tr>\n",
       "      <th>4</th>\n",
       "      <td>353</td>\n",
       "      <td>GP</td>\n",
       "      <td>F</td>\n",
       "      <td>18</td>\n",
       "      <td>U</td>\n",
       "      <td>LE3</td>\n",
       "      <td>T</td>\n",
       "      <td>2</td>\n",
       "      <td>2</td>\n",
       "      <td>other</td>\n",
       "      <td>...</td>\n",
       "      <td>yes</td>\n",
       "      <td>yes</td>\n",
       "      <td>4</td>\n",
       "      <td>3</td>\n",
       "      <td>3</td>\n",
       "      <td>1</td>\n",
       "      <td>1</td>\n",
       "      <td>2</td>\n",
       "      <td>0</td>\n",
       "      <td>12</td>\n",
       "    </tr>\n",
       "  </tbody>\n",
       "</table>\n",
       "<p>5 rows × 32 columns</p>\n",
       "</div>"
      ],
      "text/plain": [
       "    ID school sex  age address famsize Pstatus  Medu  Fedu     Mjob  ...  \\\n",
       "0  177     GP   F   17       U     GT3       T     2     2    other  ...   \n",
       "1  368     GP   F   15       U     GT3       T     2     2    other  ...   \n",
       "2  120     GP   M   17       U     GT3       T     1     2  at_home  ...   \n",
       "3  230     MS   F   17       R     GT3       T     1     1    other  ...   \n",
       "4  353     GP   F   18       U     LE3       T     2     2    other  ...   \n",
       "\n",
       "  internet romantic famrel  freetime  goout  Dalc Walc health absences grade  \n",
       "0      yes       no      5         4      5     1    2      5       12    14  \n",
       "1      yes       no      5         1      2     1    1      3        4    10  \n",
       "2      yes       no      4         4      4     4    5      5       16    12  \n",
       "3      yes      yes      5         2      1     1    2      1        0     9  \n",
       "4      yes      yes      4         3      3     1    1      2        0    12  \n",
       "\n",
       "[5 rows x 32 columns]"
      ]
     },
     "execution_count": 2,
     "metadata": {},
     "output_type": "execute_result"
    }
   ],
   "source": [
    "grades_df = pd.read_csv('train.csv')\n",
    "grades_df.head()"
   ]
  },
  {
   "cell_type": "code",
   "execution_count": 3,
   "id": "d0912205",
   "metadata": {},
   "outputs": [
    {
     "data": {
      "text/plain": [
       "ID             int64\n",
       "school        object\n",
       "sex           object\n",
       "age            int64\n",
       "address       object\n",
       "famsize       object\n",
       "Pstatus       object\n",
       "Medu           int64\n",
       "Fedu           int64\n",
       "Mjob          object\n",
       "Fjob          object\n",
       "reason        object\n",
       "guardian      object\n",
       "traveltime     int64\n",
       "studytime      int64\n",
       "failures       int64\n",
       "schoolsup     object\n",
       "famsup        object\n",
       "paid          object\n",
       "activities    object\n",
       "nursery       object\n",
       "higher        object\n",
       "internet      object\n",
       "romantic      object\n",
       "famrel         int64\n",
       "freetime       int64\n",
       "goout          int64\n",
       "Dalc           int64\n",
       "Walc           int64\n",
       "health         int64\n",
       "absences       int64\n",
       "grade          int64\n",
       "dtype: object"
      ]
     },
     "execution_count": 3,
     "metadata": {},
     "output_type": "execute_result"
    }
   ],
   "source": [
    "grades_df.dtypes"
   ]
  },
  {
   "cell_type": "code",
   "execution_count": 4,
   "id": "0b6667aa",
   "metadata": {},
   "outputs": [
    {
     "data": {
      "text/plain": [
       "ID            0\n",
       "school        0\n",
       "sex           0\n",
       "age           0\n",
       "address       0\n",
       "famsize       0\n",
       "Pstatus       0\n",
       "Medu          0\n",
       "Fedu          0\n",
       "Mjob          0\n",
       "Fjob          0\n",
       "reason        0\n",
       "guardian      0\n",
       "traveltime    0\n",
       "studytime     0\n",
       "failures      0\n",
       "schoolsup     0\n",
       "famsup        0\n",
       "paid          0\n",
       "activities    0\n",
       "nursery       0\n",
       "higher        0\n",
       "internet      0\n",
       "romantic      0\n",
       "famrel        0\n",
       "freetime      0\n",
       "goout         0\n",
       "Dalc          0\n",
       "Walc          0\n",
       "health        0\n",
       "absences      0\n",
       "grade         0\n",
       "dtype: int64"
      ]
     },
     "execution_count": 4,
     "metadata": {},
     "output_type": "execute_result"
    }
   ],
   "source": [
    "grades_df.isna().sum()"
   ]
  },
  {
   "cell_type": "code",
   "execution_count": 5,
   "id": "85bbe585",
   "metadata": {},
   "outputs": [
    {
     "data": {
      "text/plain": [
       "<AxesSubplot:>"
      ]
     },
     "execution_count": 5,
     "metadata": {},
     "output_type": "execute_result"
    },
    {
     "data": {
      "image/png": "[encoded data removed]",
      "text/plain": [
       "<Figure size 432x288 with 2 Axes>"
      ]
     },
     "metadata": {
      "needs_background": "light"
     },
     "output_type": "display_data"
    }
   ],
   "source": [
    "grades_corr = grades_df.corr()\n",
    "mask = np.triu(grades_corr)\n",
    "sns.heatmap(grades_corr, cmap='RdBu', mask=mask)"
   ]
  },
  {
   "cell_type": "code",
   "execution_count": 6,
   "id": "9be672b7",
   "metadata": {},
   "outputs": [
    {
     "data": {
      "text/plain": [
       "failures     -0.337801\n",
       "Dalc         -0.209849\n",
       "Walc         -0.153094\n",
       "traveltime   -0.151452\n",
       "freetime     -0.146184\n",
       "health       -0.126584\n",
       "goout        -0.086638\n",
       "absences     -0.074357\n",
       "age          -0.069737\n",
       "ID            0.004228\n",
       "famrel        0.028780\n",
       "Fedu          0.221398\n",
       "studytime     0.238116\n",
       "Medu          0.244757\n",
       "grade         1.000000\n",
       "dtype: float64"
      ]
     },
     "execution_count": 6,
     "metadata": {},
     "output_type": "execute_result"
    }
   ],
   "source": [
    "grades_df.corr().unstack().grade.sort_values()"
   ]
  },
  {
   "cell_type": "code",
   "execution_count": 7,
   "id": "d7604317",
   "metadata": {},
   "outputs": [],
   "source": [
    "# grades_df.drop(['ID','famrel','goout','age','absences','health','freetime','traveltime','Walc'], axis=1, inplace=True)\n",
    "grades_df.drop(['ID','famrel'], axis=1, inplace=True)"
   ]
  },
  {
   "cell_type": "markdown",
   "id": "95412064",
   "metadata": {},
   "source": [
    "### Encoding categorical values"
   ]
  },
  {
   "cell_type": "code",
   "execution_count": 8,
   "id": "4aa681ea",
   "metadata": {},
   "outputs": [],
   "source": [
    "binary_cols = ['school','sex','address','famsize','Pstatus','schoolsup','famsup','paid','activities','nursery','higher','internet','romantic']\n",
    "non_binary_cols = ['Mjob','Fjob','reason','guardian']\n",
    "grades_df = pd.get_dummies(grades_df, columns=binary_cols)\n",
    "grades_df = pd.get_dummies(grades_df, columns=non_binary_cols, drop_first=True)"
   ]
  },
  {
   "cell_type": "code",
   "execution_count": 9,
   "id": "4dcfeed5",
   "metadata": {},
   "outputs": [],
   "source": [
    "# grades_df = pd.get_dummies(grades_df,\n",
    "#                            columns=grades_df.select_dtypes(include=['object']).columns.values.tolist(),\n",
    "#                            drop_first=True)"
   ]
  },
  {
   "cell_type": "code",
   "execution_count": 10,
   "id": "7ca87891",
   "metadata": {},
   "outputs": [
    {
     "name": "stdout",
     "output_type": "stream",
     "text": [
      "['age', 'Medu', 'Fedu', 'traveltime', 'studytime', 'failures', 'freetime', 'goout', 'Dalc', 'Walc', 'health', 'absences']\n"
     ]
    }
   ],
   "source": [
    "int_cols = grades_df.select_dtypes(include=['int64']).columns.values.tolist()\n",
    "int_cols.remove('grade')\n",
    "print(int_cols)"
   ]
  },
  {
   "cell_type": "code",
   "execution_count": 11,
   "id": "3dc30149",
   "metadata": {},
   "outputs": [
    {
     "data": {
      "text/html": [
       "<div>\n",
       "<style scoped>\n",
       "    .dataframe tbody tr th:only-of-type {\n",
       "        vertical-align: middle;\n",
       "    }\n",
       "\n",
       "    .dataframe tbody tr th {\n",
       "        vertical-align: top;\n",
       "    }\n",
       "\n",
       "    .dataframe thead th {\n",
       "        text-align: right;\n",
       "    }\n",
       "</style>\n",
       "<table border=\"1\" class=\"dataframe\">\n",
       "  <thead>\n",
       "    <tr style=\"text-align: right;\">\n",
       "      <th></th>\n",
       "      <th>age</th>\n",
       "      <th>Medu</th>\n",
       "      <th>Fedu</th>\n",
       "      <th>traveltime</th>\n",
       "      <th>studytime</th>\n",
       "      <th>failures</th>\n",
       "      <th>freetime</th>\n",
       "      <th>goout</th>\n",
       "      <th>Dalc</th>\n",
       "      <th>Walc</th>\n",
       "      <th>...</th>\n",
       "      <th>Mjob_teacher</th>\n",
       "      <th>Fjob_health</th>\n",
       "      <th>Fjob_other</th>\n",
       "      <th>Fjob_services</th>\n",
       "      <th>Fjob_teacher</th>\n",
       "      <th>reason_home</th>\n",
       "      <th>reason_other</th>\n",
       "      <th>reason_reputation</th>\n",
       "      <th>guardian_mother</th>\n",
       "      <th>guardian_other</th>\n",
       "    </tr>\n",
       "  </thead>\n",
       "  <tbody>\n",
       "    <tr>\n",
       "      <th>0</th>\n",
       "      <td>0.236173</td>\n",
       "      <td>-0.412030</td>\n",
       "      <td>-0.257534</td>\n",
       "      <td>-0.765816</td>\n",
       "      <td>0.085468</td>\n",
       "      <td>-0.360748</td>\n",
       "      <td>0.753820</td>\n",
       "      <td>1.560934</td>\n",
       "      <td>-0.519607</td>\n",
       "      <td>-0.186843</td>\n",
       "      <td>...</td>\n",
       "      <td>0.0</td>\n",
       "      <td>0.0</td>\n",
       "      <td>1.0</td>\n",
       "      <td>0.0</td>\n",
       "      <td>0.0</td>\n",
       "      <td>0.0</td>\n",
       "      <td>0.0</td>\n",
       "      <td>0.0</td>\n",
       "      <td>1.0</td>\n",
       "      <td>0.0</td>\n",
       "    </tr>\n",
       "    <tr>\n",
       "      <th>1</th>\n",
       "      <td>-1.439448</td>\n",
       "      <td>-0.412030</td>\n",
       "      <td>-0.257534</td>\n",
       "      <td>-0.765816</td>\n",
       "      <td>2.528852</td>\n",
       "      <td>-0.360748</td>\n",
       "      <td>-2.014618</td>\n",
       "      <td>-1.010639</td>\n",
       "      <td>-0.519607</td>\n",
       "      <td>-0.962958</td>\n",
       "      <td>...</td>\n",
       "      <td>0.0</td>\n",
       "      <td>0.0</td>\n",
       "      <td>1.0</td>\n",
       "      <td>0.0</td>\n",
       "      <td>0.0</td>\n",
       "      <td>0.0</td>\n",
       "      <td>0.0</td>\n",
       "      <td>0.0</td>\n",
       "      <td>1.0</td>\n",
       "      <td>0.0</td>\n",
       "    </tr>\n",
       "    <tr>\n",
       "      <th>2</th>\n",
       "      <td>0.236173</td>\n",
       "      <td>-1.282668</td>\n",
       "      <td>-0.257534</td>\n",
       "      <td>0.582686</td>\n",
       "      <td>0.085468</td>\n",
       "      <td>-0.360748</td>\n",
       "      <td>0.753820</td>\n",
       "      <td>0.703743</td>\n",
       "      <td>2.774251</td>\n",
       "      <td>2.141503</td>\n",
       "      <td>...</td>\n",
       "      <td>0.0</td>\n",
       "      <td>0.0</td>\n",
       "      <td>0.0</td>\n",
       "      <td>1.0</td>\n",
       "      <td>0.0</td>\n",
       "      <td>0.0</td>\n",
       "      <td>1.0</td>\n",
       "      <td>0.0</td>\n",
       "      <td>0.0</td>\n",
       "      <td>1.0</td>\n",
       "    </tr>\n",
       "    <tr>\n",
       "      <th>3</th>\n",
       "      <td>0.236173</td>\n",
       "      <td>-1.282668</td>\n",
       "      <td>-1.164503</td>\n",
       "      <td>1.931189</td>\n",
       "      <td>-1.136224</td>\n",
       "      <td>1.309000</td>\n",
       "      <td>-1.091805</td>\n",
       "      <td>-1.867829</td>\n",
       "      <td>-0.519607</td>\n",
       "      <td>-0.186843</td>\n",
       "      <td>...</td>\n",
       "      <td>0.0</td>\n",
       "      <td>0.0</td>\n",
       "      <td>0.0</td>\n",
       "      <td>1.0</td>\n",
       "      <td>0.0</td>\n",
       "      <td>0.0</td>\n",
       "      <td>0.0</td>\n",
       "      <td>1.0</td>\n",
       "      <td>1.0</td>\n",
       "      <td>0.0</td>\n",
       "    </tr>\n",
       "    <tr>\n",
       "      <th>4</th>\n",
       "      <td>1.073983</td>\n",
       "      <td>-0.412030</td>\n",
       "      <td>-0.257534</td>\n",
       "      <td>-0.765816</td>\n",
       "      <td>0.085468</td>\n",
       "      <td>-0.360748</td>\n",
       "      <td>-0.168992</td>\n",
       "      <td>-0.153448</td>\n",
       "      <td>-0.519607</td>\n",
       "      <td>-0.962958</td>\n",
       "      <td>...</td>\n",
       "      <td>0.0</td>\n",
       "      <td>0.0</td>\n",
       "      <td>1.0</td>\n",
       "      <td>0.0</td>\n",
       "      <td>0.0</td>\n",
       "      <td>1.0</td>\n",
       "      <td>0.0</td>\n",
       "      <td>0.0</td>\n",
       "      <td>0.0</td>\n",
       "      <td>1.0</td>\n",
       "    </tr>\n",
       "  </tbody>\n",
       "</table>\n",
       "<p>5 rows × 52 columns</p>\n",
       "</div>"
      ],
      "text/plain": [
       "        age      Medu      Fedu  traveltime  studytime  failures  freetime  \\\n",
       "0  0.236173 -0.412030 -0.257534   -0.765816   0.085468 -0.360748  0.753820   \n",
       "1 -1.439448 -0.412030 -0.257534   -0.765816   2.528852 -0.360748 -2.014618   \n",
       "2  0.236173 -1.282668 -0.257534    0.582686   0.085468 -0.360748  0.753820   \n",
       "3  0.236173 -1.282668 -1.164503    1.931189  -1.136224  1.309000 -1.091805   \n",
       "4  1.073983 -0.412030 -0.257534   -0.765816   0.085468 -0.360748 -0.168992   \n",
       "\n",
       "      goout      Dalc      Walc  ...  Mjob_teacher  Fjob_health  Fjob_other  \\\n",
       "0  1.560934 -0.519607 -0.186843  ...           0.0          0.0         1.0   \n",
       "1 -1.010639 -0.519607 -0.962958  ...           0.0          0.0         1.0   \n",
       "2  0.703743  2.774251  2.141503  ...           0.0          0.0         0.0   \n",
       "3 -1.867829 -0.519607 -0.186843  ...           0.0          0.0         0.0   \n",
       "4 -0.153448 -0.519607 -0.962958  ...           0.0          0.0         1.0   \n",
       "\n",
       "   Fjob_services  Fjob_teacher  reason_home  reason_other  reason_reputation  \\\n",
       "0            0.0           0.0          0.0           0.0                0.0   \n",
       "1            0.0           0.0          0.0           0.0                0.0   \n",
       "2            1.0           0.0          0.0           1.0                0.0   \n",
       "3            1.0           0.0          0.0           0.0                1.0   \n",
       "4            0.0           0.0          1.0           0.0                0.0   \n",
       "\n",
       "   guardian_mother  guardian_other  \n",
       "0              1.0             0.0  \n",
       "1              1.0             0.0  \n",
       "2              0.0             1.0  \n",
       "3              1.0             0.0  \n",
       "4              0.0             1.0  \n",
       "\n",
       "[5 rows x 52 columns]"
      ]
     },
     "execution_count": 11,
     "metadata": {},
     "output_type": "execute_result"
    }
   ],
   "source": [
    "from sklearn.preprocessing import StandardScaler\n",
    "from sklearn.compose import make_column_transformer\n",
    "\n",
    "ct = make_column_transformer((StandardScaler(), int_cols), remainder='passthrough')\n",
    "grades_scaled = ct.fit_transform(grades_df)\n",
    "grades_scaled_df = pd.DataFrame(grades_scaled, columns=grades_df.columns)\n",
    "grades_scaled_df.head()"
   ]
  },
  {
   "cell_type": "markdown",
   "id": "1e1766ac",
   "metadata": {},
   "source": [
    "### Preprocessing"
   ]
  },
  {
   "cell_type": "code",
   "execution_count": 12,
   "id": "f8531f4b",
   "metadata": {},
   "outputs": [
    {
     "data": {
      "text/plain": [
       "<AxesSubplot:>"
      ]
     },
     "execution_count": 12,
     "metadata": {},
     "output_type": "execute_result"
    },
    {
     "data": {
      "image/png": "[encoded data removed]",
      "text/plain": [
       "<Figure size 864x648 with 2 Axes>"
      ]
     },
     "metadata": {
      "needs_background": "light"
     },
     "output_type": "display_data"
    }
   ],
   "source": [
    "grades_scaled_corr = grades_df.corr()\n",
    "mask = np.triu(grades_scaled_corr)\n",
    "plt.figure(figsize=(12, 9))\n",
    "sns.heatmap(grades_scaled_corr, cmap='RdBu', mask=mask)"
   ]
  },
  {
   "cell_type": "code",
   "execution_count": 13,
   "id": "26225ffc",
   "metadata": {},
   "outputs": [
    {
     "data": {
      "text/plain": [
       "failures            -0.337801\n",
       "higher_no           -0.304264\n",
       "school_MS           -0.303330\n",
       "Dalc                -0.209849\n",
       "internet_no         -0.166723\n",
       "address_R           -0.163681\n",
       "reason_other        -0.163368\n",
       "Walc                -0.153094\n",
       "traveltime          -0.151452\n",
       "freetime            -0.146184\n",
       "health              -0.126584\n",
       "sex_M               -0.090484\n",
       "goout               -0.086638\n",
       "paid_yes            -0.080265\n",
       "Fjob_services       -0.076544\n",
       "schoolsup_yes       -0.074410\n",
       "absences            -0.074357\n",
       "age                 -0.069737\n",
       "famsup_no           -0.069526\n",
       "romantic_yes        -0.063653\n",
       "Mjob_other          -0.043579\n",
       "guardian_other      -0.041745\n",
       "famsize_GT3         -0.037917\n",
       "activities_no       -0.037364\n",
       "guardian_mother     -0.031970\n",
       "nursery_no          -0.031946\n",
       "Pstatus_T           -0.028441\n",
       "Fjob_other           0.002892\n",
       "Pstatus_A            0.028441\n",
       "nursery_yes          0.031946\n",
       "activities_yes       0.037364\n",
       "famsize_LE3          0.037917\n",
       "reason_home          0.063099\n",
       "romantic_no          0.063653\n",
       "Mjob_services        0.066954\n",
       "Fjob_health          0.067323\n",
       "famsup_yes           0.069526\n",
       "schoolsup_no         0.074410\n",
       "paid_no              0.080265\n",
       "sex_F                0.090484\n",
       "Mjob_health          0.092453\n",
       "Fjob_teacher         0.108473\n",
       "Mjob_teacher         0.124447\n",
       "address_U            0.163681\n",
       "internet_yes         0.166723\n",
       "reason_reputation    0.179333\n",
       "Fedu                 0.221398\n",
       "studytime            0.238116\n",
       "Medu                 0.244757\n",
       "school_GP            0.303330\n",
       "higher_yes           0.304264\n",
       "grade                1.000000\n",
       "dtype: float64"
      ]
     },
     "execution_count": 13,
     "metadata": {},
     "output_type": "execute_result"
    }
   ],
   "source": [
    "grades_scaled_corr = grades_scaled_df.corr().unstack().sort_values().grade\n",
    "grades_scaled_corr"
   ]
  },
  {
   "cell_type": "code",
   "execution_count": 14,
   "id": "e83ca2d3",
   "metadata": {},
   "outputs": [],
   "source": [
    "low_corr_cols = grades_scaled_corr[abs(grades_scaled_corr) < 0.15].index.tolist()\n",
    "grades_scaled_df.drop(low_corr_cols, axis=1, inplace=True)"
   ]
  },
  {
   "cell_type": "code",
   "execution_count": 15,
   "id": "484f9663",
   "metadata": {},
   "outputs": [],
   "source": [
    "X = grades_scaled_df.drop(['grade'], axis=1)\n",
    "y = grades_scaled_df['grade']\n",
    "x_train, x_test, y_train, y_test = train_test_split(X, y, test_size = 0.4, random_state=42)"
   ]
  },
  {
   "cell_type": "markdown",
   "id": "2a8150b5",
   "metadata": {},
   "source": [
    "## Models"
   ]
  },
  {
   "cell_type": "code",
   "execution_count": 16,
   "id": "5f623bb7",
   "metadata": {},
   "outputs": [],
   "source": [
    "from sklearn.tree import DecisionTreeRegressor\n",
    "from sklearn.linear_model import Ridge\n",
    "from sklearn.linear_model import LinearRegression\n",
    "from sklearn.ensemble import GradientBoostingRegressor\n",
    "from sklearn.ensemble import RandomForestRegressor\n",
    "from sklearn.ensemble import VotingRegressor\n",
    "from sklearn.svm import SVR"
   ]
  },
  {
   "cell_type": "code",
   "execution_count": 17,
   "id": "a70102f7",
   "metadata": {},
   "outputs": [
    {
     "name": "stdout",
     "output_type": "stream",
     "text": [
      "6.97948717948718\n",
      "0.34118023801367314\n",
      "0.34978705138306754\n"
     ]
    }
   ],
   "source": [
    "lr = LinearRegression()\n",
    "lr.fit(x_train, y_train)\n",
    "y_pred = np.round(lr.predict(x_test), 0)\n",
    "print(mean_squared_error(y_test, y_pred))\n",
    "print(r2_score(y_test, y_pred))\n",
    "print(lr.score(x_test, y_test))"
   ]
  },
  {
   "cell_type": "code",
   "execution_count": 18,
   "id": "0e59b0c0",
   "metadata": {},
   "outputs": [
    {
     "name": "stdout",
     "output_type": "stream",
     "text": [
      "6.98974358974359\n",
      "0.34021209729069546\n",
      "0.34978705138306754\n"
     ]
    }
   ],
   "source": [
    "ridge = Ridge(random_state=1)\n",
    "ridge.fit(x_train, y_train)\n",
    "y_pred = np.round(ridge.predict(x_test), 0)\n",
    "print(mean_squared_error(y_test, y_pred))\n",
    "print(r2_score(y_test, y_pred))\n",
    "print(lr.score(x_test, y_test))"
   ]
  },
  {
   "cell_type": "code",
   "execution_count": 19,
   "id": "9620e86d",
   "metadata": {},
   "outputs": [
    {
     "name": "stdout",
     "output_type": "stream",
     "text": [
      "7.282051282051282\n",
      "0.31262008668583086\n",
      "0.34540547883536776\n"
     ]
    }
   ],
   "source": [
    "reg1 = GradientBoostingRegressor(random_state=1)\n",
    "reg2 = RandomForestRegressor(random_state=1)\n",
    "reg3 = DecisionTreeRegressor(random_state=1)\n",
    "ereg = VotingRegressor(estimators=[('gb', reg1), ('rf', reg2), ('dtree', reg3)])\n",
    "ereg.fit(x_train, y_train)\n",
    "y_pred = np.round(ereg.predict(x_test), 0)\n",
    "print(mean_squared_error(y_test, y_pred))\n",
    "print(r2_score(y_test, y_pred))\n",
    "print(ereg.score(x_test, y_test))"
   ]
  },
  {
   "cell_type": "code",
   "execution_count": 20,
   "id": "2c571730",
   "metadata": {},
   "outputs": [
    {
     "name": "stdout",
     "output_type": "stream",
     "text": [
      "6.635897435897436\n",
      "0.37361295223342617\n",
      "0.39025227026154774\n"
     ]
    }
   ],
   "source": [
    "reg1 = GradientBoostingRegressor(random_state=1)\n",
    "reg2 = RandomForestRegressor(random_state=1)\n",
    "reg3 = DecisionTreeRegressor(random_state=1)\n",
    "reg4 = SVR()\n",
    "reg5 = LinearRegression()\n",
    "reg6 = Ridge(random_state=1)\n",
    "ereg = VotingRegressor(estimators=[('gb', reg1), ('rf', reg2),('dtree', reg3),('svr', reg4),('lr', reg5),('ridge', reg6)])\n",
    "ereg.fit(x_train, y_train)\n",
    "y_pred = np.round(ereg.predict(x_test), 0)\n",
    "print(mean_squared_error(y_test, y_pred))\n",
    "print(r2_score(y_test, y_pred))\n",
    "print(ereg.score(x_test, y_test))"
   ]
  },
  {
   "cell_type": "code",
   "execution_count": 21,
   "id": "46642f10",
   "metadata": {},
   "outputs": [
    {
     "name": "stdout",
     "output_type": "stream",
     "text": [
      "6.62051282051282\n",
      "0.37506516331789275\n",
      "0.3791280981086651\n"
     ]
    }
   ],
   "source": [
    "reg1 = GradientBoostingRegressor(random_state=1)\n",
    "reg2 = RandomForestRegressor(random_state=1)\n",
    "reg3 = SVR()\n",
    "ereg = VotingRegressor(estimators=[('gb', reg1), ('rf', reg2), ('svr', reg3)])\n",
    "ereg.fit(x_train, y_train)\n",
    "y_pred = np.round(ereg.predict(x_test), 0)\n",
    "print(mean_squared_error(y_test, y_pred))\n",
    "print(r2_score(y_test, y_pred))\n",
    "print(ereg.score(x_test, y_test))"
   ]
  },
  {
   "cell_type": "code",
   "execution_count": 22,
   "id": "01a1b2f6",
   "metadata": {},
   "outputs": [
    {
     "name": "stdout",
     "output_type": "stream",
     "text": [
      "6.523076923076923\n",
      "0.3842625001861809\n",
      "0.3921762080475496\n"
     ]
    }
   ],
   "source": [
    "reg1 = GradientBoostingRegressor(random_state=1)\n",
    "reg2 = RandomForestRegressor(random_state=1)\n",
    "reg3 = LinearRegression()\n",
    "ereg = VotingRegressor(estimators=[('gb', reg1), ('rf', reg2), ('lr', reg3)])\n",
    "ereg.fit(x_train, y_train)\n",
    "y_pred = np.round(ereg.predict(x_test), 0)\n",
    "print(mean_squared_error(y_test, y_pred))\n",
    "print(r2_score(y_test, y_pred))\n",
    "print(ereg.score(x_test, y_test))"
   ]
  },
  {
   "cell_type": "code",
   "execution_count": 23,
   "id": "8ccb5d0e",
   "metadata": {},
   "outputs": [],
   "source": [
    "# test_df = pd.read_csv('test.csv')\n",
    "# id_col = test_df.iloc[:, 0]\n",
    "# test_df.drop(['ID','famrel'], axis=1, inplace=True)\n",
    "# test_df = pd.get_dummies(test_df, columns=binary_cols)\n",
    "# test_df = pd.get_dummies(test_df, columns=non_binary_cols, drop_first=True)\n",
    "# test_scaled_df = pd.DataFrame(ct.fit_transform(test_df), columns=test_df.columns)\n",
    "# test_scaled_df.drop(low_corr_cols, axis=1, inplace=True)\n",
    "# y_pred = pd.DataFrame(np.round(ereg.predict(test_scaled_df), 0), columns=['grade'])\n",
    "# y_pred.insert(0, 'ID', id_col)\n",
    "# y_pred.to_csv('results.csv', index=False)"
   ]
  },
  {
   "cell_type": "code",
   "execution_count": null,
   "id": "666a1697",
   "metadata": {},
   "outputs": [],
   "source": []
  }
 ],
 "metadata": {
  "kernelspec": {
   "display_name": "Python 3 (ipykernel)",
   "language": "python",
   "name": "python3"
  },
  "language_info": {
   "codemirror_mode": {
    "name": "ipython",
    "version": 3
   },
   "file_extension": ".py",
   "mimetype": "text/x-python",
   "name": "python",
   "nbconvert_exporter": "python",
   "pygments_lexer": "ipython3",
   "version": "3.9.7"
  }
 },
 "nbformat": 4,
 "nbformat_minor": 5
}
